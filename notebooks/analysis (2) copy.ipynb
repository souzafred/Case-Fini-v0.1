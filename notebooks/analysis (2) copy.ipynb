{
 "cells": [
  {
   "cell_type": "markdown",
   "id": "eab8f95d",
   "metadata": {},
   "source": [
    "# Análise de Inteligência Comercial - FMCG Doces e Guloseimas\n",
    "## ETL → EDA → Forecast → Dashboard Export\n",
    "\n",
    "Neste notebook, realizamos:\n",
    "1. ETL nas bases **Sell In** e **Sell Out**  \n",
    "2. Análise Exploratória de Dados (EDA) básica e avançada  \n",
    "3. Forecast de vendas (próxima seção)  \n",
    "4. Exportação para dashboard  \n",
    "---"
   ]
  },
  {
   "cell_type": "code",
   "execution_count": 12,
   "id": "3f1465c5",
   "metadata": {},
   "outputs": [],
   "source": [
    "from pathlib import Path\n",
    "import pandas as pd\n",
    "import numpy as np\n",
    "from datetime import datetime\n",
    "import plotly.express as px\n",
    "from IPython.display import display, Markdown\n",
    "\n",
    "# Definição de diretórios\n",
    "BASE_DIR      = Path.cwd().parent if Path.cwd().name == 'notebooks' else Path.cwd()\n",
    "DATA_DIR      = BASE_DIR / 'data'\n",
    "RAW_DIR       = DATA_DIR / 'raw'\n",
    "PROCESSED_DIR = DATA_DIR / 'processed'\n",
    "PROCESSED_DIR.mkdir(parents=True, exist_ok=True)\n",
    "\n",
    "# Mapeamento mês → número\n",
    "mes_map = {\n",
    "    'jan':1,'fev':2,'mar':3,'abr':4,'mai':5,'jun':6,\n",
    "    'jul':7,'ago':8,'set':9,'out':10,'nov':11,'dez':12\n",
    "}\n",
    "\n",
    "def parse_mes_ano(x):\n",
    "    s = str(x).strip().lower()\n",
    "    if '/' in s:\n",
    "        try:\n",
    "            return datetime.strptime(s, '%m/%Y')\n",
    "        except:\n",
    "            pass\n",
    "    parts = s.split()\n",
    "    if len(parts) == 2:\n",
    "        mes_abbr, ano = parts\n",
    "        mes = mes_map.get(mes_abbr[:3])\n",
    "        if mes:\n",
    "            return datetime(int(ano), mes, 1)\n",
    "    raise ValueError(f'Formato de data não reconhecido: {x!r}')"
   ]
  },
  {
   "cell_type": "markdown",
   "id": "5a900911",
   "metadata": {},
   "source": [
    "### 1. ETL da Base **Sell In**"
   ]
  },
  {
   "cell_type": "code",
   "execution_count": 13,
   "id": "2adc6bea",
   "metadata": {},
   "outputs": [
    {
     "name": "stdout",
     "output_type": "stream",
     "text": [
      "Sell In pronto: (4172, 23)\n"
     ]
    },
    {
     "name": "stderr",
     "output_type": "stream",
     "text": [
      "C:\\Users\\frdsz\\AppData\\Local\\Temp\\ipykernel_23548\\2507126671.py:7: FutureWarning:\n",
      "\n",
      "Downcasting behavior in `replace` is deprecated and will be removed in a future version. To retain the old behavior, explicitly call `result.infer_objects(copy=False)`. To opt-in to the future behavior, set `pd.set_option('future.no_silent_downcasting', True)`\n",
      "\n",
      "C:\\Users\\frdsz\\AppData\\Local\\Temp\\ipykernel_23548\\2507126671.py:8: FutureWarning:\n",
      "\n",
      "Downcasting behavior in `replace` is deprecated and will be removed in a future version. To retain the old behavior, explicitly call `result.infer_objects(copy=False)`. To opt-in to the future behavior, set `pd.set_option('future.no_silent_downcasting', True)`\n",
      "\n"
     ]
    }
   ],
   "source": [
    "sell_in = pd.read_excel(RAW_DIR / 'base sell in.xlsx')\n",
    "sell_in.columns = sell_in.columns.str.strip().str.replace(r'[\\r\\n\\t]+',' ', regex=True)\n",
    "\n",
    "sell_in['Data_SellIn'] = sell_in['Calendario[Mês/Ano]'].apply(parse_mes_ano)\n",
    "sell_in['Ano_Mes']      = sell_in['Data_SellIn'].dt.strftime('%Y-%m')\n",
    "\n",
    "sell_in['[SumP_NF_ValTotal]']   = sell_in['[SumP_NF_ValTotal]'].replace(['-',''], np.nan).astype(float)\n",
    "sell_in['[SumPeso_Liquido]']    = sell_in['[SumPeso_Liquido]'].replace(['-',''], np.nan).astype(float)\n",
    "sell_in['Quantidade'] = (\n",
    "    pd.to_numeric(sell_in['[SumP_NF_Quantidade]'], errors='coerce')\n",
    "      .fillna(0)\n",
    "      .astype(int)\n",
    ")\n",
    "\n",
    "sell_in.drop(columns='[SumP_NF_Quantidade]', inplace=True)\n",
    "\n",
    "sell_in = sell_in[\n",
    "    (\n",
    "        (sell_in['FATO[P.NF.OperacaoFini]'] == 'Venda') \n",
    "    ) &\n",
    "    (~sell_in['Produto[P.Produtos.LinhaProducao]'].str.contains('PROMOCIONAIS', case=False, na=False)) &\n",
    "    (sell_in['[SumP_NF_ValTotal]'].notna())\n",
    "].copy()\n",
    "\n",
    "mask = (\n",
    "    (sell_in['Produto[P.Produtos.LinhaProducao]']=='MARSHMALLOW') &\n",
    "    sell_in['Produto[P.Produtos.TpPro.Inteligente]'].fillna('').eq('')\n",
    ")\n",
    "sell_in.loc[mask, 'Produto[P.Produtos.TpPro.Inteligente]'] = 'MARSH'\n",
    "\n",
    "sell_in.rename(columns={\n",
    "    'FATO[P.NF.Ramo_Atividade]':'Ramo_Atividade',\n",
    "    'Cliente[P.Cliente.Pais]':'Pais','Cliente[P.Cliente.Regiao]':'Regiao',\n",
    "    'Cliente[P.Cliente.NomeFantasia]':'Cliente','Cliente[P.Cliente.UF]':'UF',\n",
    "    'Produto[P.Produtos.LinhaProducao]':'Linha_Producao','Produto[P.Produtos.Gramagem]':'Gramagem',\n",
    "    'Produto[P.Produtos.MacroFormato]':'Macro_Formato','Produto[P.Produtos.Nome]':'Nome_Produto',\n",
    "    'Produto[P.Produtos.Grupo]':'Grupo_Produto','Produto[P.Produtos.TpPro.Inteligente]':'Tipo_Produto',\n",
    "    'Cliente[P.Cliente.Municipio]':'Municipio','Hierarquia[P.Cliente.Canal_Hierarquia]':'Canal',\n",
    "    'Hierarquia[P.Cliente.GerenteRegional]':'Gerente_Regional','Hierarquia[P.Cliente.VendedorNome]':'Vendedor',\n",
    "    'Produto[Cod. Produto]':'Cod_Produto','[SumP_NF_Quantidade]':'Quantidade',\n",
    "    '[SumP_NF_ValTotal]':'Valor_Total','[SumPeso_Liquido]':'Peso_Liquido'\n",
    "}, inplace=True)\n",
    "print('Sell In pronto:', sell_in.shape)"
   ]
  },
  {
   "cell_type": "markdown",
   "id": "a5525446",
   "metadata": {},
   "source": [
    "### 2. ETL da Base **Sell Out**"
   ]
  },
  {
   "cell_type": "code",
   "execution_count": 14,
   "id": "922bf3bb",
   "metadata": {},
   "outputs": [
    {
     "name": "stdout",
     "output_type": "stream",
     "text": [
      "Sell Out pronto: (25708, 12)\n"
     ]
    }
   ],
   "source": [
    "sell_out = pd.read_excel(RAW_DIR / 'BASE SELL OUT.xlsx')\n",
    "sell_out.columns = sell_out.columns.str.strip().str.replace(r'[\\r\\n\\t]+',' ', regex=True)\n",
    "\n",
    "sell_out['Data']    = pd.to_datetime(sell_out['Ano/Mês'], errors='raise')\n",
    "sell_out['Ano_Mes'] = sell_out['Data'].dt.strftime('%Y-%m')\n",
    "\n",
    "for col in ['Sell through valor','Sell through cx']:\n",
    "    sell_out[col] = pd.to_numeric(\n",
    "        sell_out[col].astype(str).str.replace(r'[^0-9,.-]','', regex=True).str.replace(',','.'), errors='coerce'\n",
    "    )\n",
    "sell_out['Sell through unidade'] = pd.to_numeric(sell_out['Sell through unidade'], errors='coerce').fillna(0).astype(int)\n",
    "\n",
    "sell_out = sell_out[sell_out['Sell through valor']>0].copy()\n",
    "sell_out.rename(columns={\n",
    "    'Agente de Distribuição':'Agente_Distribuicao','UF PDV':'UF_PDV','Cidade PDV':'Cidade_PDV',\n",
    "    'Segmentação Mtrix':'Segmentacao_Mtrix','Cód Produto (SKU)':'Cod_Produto','Nome Produto':'Nome_Produto',\n",
    "    'Sell through valor':'Valor_SellThrough','Sell through unidade':'Unidades_SellThrough',\n",
    "    'Sell through cx':'Caixas_SellThrough'\n",
    "}, inplace=True)\n",
    "print('Sell Out pronto:', sell_out.shape)"
   ]
  },
  {
   "cell_type": "markdown",
   "id": "5be190ee",
   "metadata": {},
   "source": [
    "### 3. Salvando Bases Tratadas"
   ]
  },
  {
   "cell_type": "code",
   "execution_count": 16,
   "id": "e0357750",
   "metadata": {},
   "outputs": [
    {
     "name": "stdout",
     "output_type": "stream",
     "text": [
      "Bases tratadas salvas em: c:\\Users\\frdsz\\Downloads\\Case Fini v0.1\\data\\processed\n"
     ]
    }
   ],
   "source": [
    "sell_in.to_csv(\n",
    "    PROCESSED_DIR / \"sell_in_processed.csv\",\n",
    "    sep=\";\",               # usa ponto-e-vírgula\n",
    "    decimal=\",\",           # usa vírgula como decimal\n",
    "    float_format=\"%.2f\",   # sempre duas casas decimais\n",
    "    index=False,\n",
    "    encoding=\"utf-8-sig\"   )\n",
    "\n",
    "sell_out.to_csv(\n",
    "    PROCESSED_DIR / \"sell_out_processed.csv\",\n",
    "    sep=\";\",\n",
    "    decimal=\",\",\n",
    "    float_format=\"%.2f\",\n",
    "    index=False,\n",
    "    encoding=\"utf-8-sig\"\n",
    ")\n",
    "print('Bases tratadas salvas em:', PROCESSED_DIR)"
   ]
  },
  {
   "cell_type": "markdown",
   "id": "ead9fcfa",
   "metadata": {},
   "source": [
    "## 4. Análise Exploratória de Dados (EDA)\n",
    "Nesta seção: KPIs globais, séries temporais, performance e métricas avançadas."
   ]
  },
  {
   "cell_type": "code",
   "execution_count": null,
   "id": "9f5ef09e",
   "metadata": {},
   "outputs": [
    {
     "data": {
      "text/markdown": [
       "**Total Sell In:**   R$ 106,518,219.36"
      ],
      "text/plain": [
       "<IPython.core.display.Markdown object>"
      ]
     },
     "metadata": {},
     "output_type": "display_data"
    },
    {
     "data": {
      "text/markdown": [
       "**Total Caixas Sell In:** 2,514,105"
      ],
      "text/plain": [
       "<IPython.core.display.Markdown object>"
      ]
     },
     "metadata": {},
     "output_type": "display_data"
    },
    {
     "data": {
      "text/markdown": [
       "**Total Sell Out:**  R$ 29,901,537.82"
      ],
      "text/plain": [
       "<IPython.core.display.Markdown object>"
      ]
     },
     "metadata": {},
     "output_type": "display_data"
    },
    {
     "data": {
      "text/markdown": [
       "**Total Caixas Sell Out:** 475,671"
      ],
      "text/plain": [
       "<IPython.core.display.Markdown object>"
      ]
     },
     "metadata": {},
     "output_type": "display_data"
    },
    {
     "data": {
      "text/markdown": [
       "**Total Unidades Sell Out:** 7,579,897"
      ],
      "text/plain": [
       "<IPython.core.display.Markdown object>"
      ]
     },
     "metadata": {},
     "output_type": "display_data"
    },
    {
     "data": {
      "text/markdown": [
       "**Sell-Through Rate:** 28.07%"
      ],
      "text/plain": [
       "<IPython.core.display.Markdown object>"
      ]
     },
     "metadata": {},
     "output_type": "display_data"
    },
    {
     "data": {
      "text/markdown": [
       "**Ticket Médio:**     R$ 3.94"
      ],
      "text/plain": [
       "<IPython.core.display.Markdown object>"
      ]
     },
     "metadata": {},
     "output_type": "display_data"
    },
    {
     "data": {
      "text/markdown": [
       "**Ticket Médio Sell In:** R$ 42.37"
      ],
      "text/plain": [
       "<IPython.core.display.Markdown object>"
      ]
     },
     "metadata": {},
     "output_type": "display_data"
    },
    {
     "data": {
      "text/markdown": [
       "**Crescimento Mensal de Sell In (%):**"
      ],
      "text/plain": [
       "<IPython.core.display.Markdown object>"
      ]
     },
     "metadata": {},
     "output_type": "display_data"
    },
    {
     "data": {
      "application/vnd.microsoft.datawrangler.viewer.v0+json": {
       "columns": [
        {
         "name": "Ano_Mes",
         "rawType": "object",
         "type": "string"
        },
        {
         "name": "Crescimento %",
         "rawType": "float64",
         "type": "float"
        }
       ],
       "ref": "323e7fe4-15df-4580-a91e-551556245d1e",
       "rows": [
        [
         "2023-01",
         null
        ],
        [
         "2023-02",
         "57.61"
        ],
        [
         "2023-03",
         "17.27"
        ],
        [
         "2023-04",
         "9.57"
        ],
        [
         "2023-05",
         "25.26"
        ],
        [
         "2023-06",
         "-6.4"
        ],
        [
         "2023-07",
         "-45.09"
        ],
        [
         "2023-08",
         "79.93"
        ],
        [
         "2023-09",
         "39.02"
        ],
        [
         "2023-10",
         "-21.34"
        ],
        [
         "2023-11",
         "52.27"
        ],
        [
         "2023-12",
         "-55.73"
        ],
        [
         "2024-01",
         "-58.53"
        ],
        [
         "2024-02",
         "186.02"
        ],
        [
         "2024-03",
         "28.04"
        ],
        [
         "2024-04",
         "-73.77"
        ],
        [
         "2024-05",
         "374.56"
        ],
        [
         "2024-06",
         "15.97"
        ],
        [
         "2024-07",
         "-58.97"
        ],
        [
         "2024-08",
         "104.84"
        ],
        [
         "2024-09",
         "-38.63"
        ],
        [
         "2024-10",
         "173.11"
        ],
        [
         "2024-11",
         "-57.33"
        ],
        [
         "2024-12",
         "-26.11"
        ]
       ],
       "shape": {
        "columns": 1,
        "rows": 24
       }
      },
      "text/html": [
       "<div>\n",
       "<style scoped>\n",
       "    .dataframe tbody tr th:only-of-type {\n",
       "        vertical-align: middle;\n",
       "    }\n",
       "\n",
       "    .dataframe tbody tr th {\n",
       "        vertical-align: top;\n",
       "    }\n",
       "\n",
       "    .dataframe thead th {\n",
       "        text-align: right;\n",
       "    }\n",
       "</style>\n",
       "<table border=\"1\" class=\"dataframe\">\n",
       "  <thead>\n",
       "    <tr style=\"text-align: right;\">\n",
       "      <th></th>\n",
       "      <th>Crescimento %</th>\n",
       "    </tr>\n",
       "    <tr>\n",
       "      <th>Ano_Mes</th>\n",
       "      <th></th>\n",
       "    </tr>\n",
       "  </thead>\n",
       "  <tbody>\n",
       "    <tr>\n",
       "      <th>2023-01</th>\n",
       "      <td>NaN</td>\n",
       "    </tr>\n",
       "    <tr>\n",
       "      <th>2023-02</th>\n",
       "      <td>57.61</td>\n",
       "    </tr>\n",
       "    <tr>\n",
       "      <th>2023-03</th>\n",
       "      <td>17.27</td>\n",
       "    </tr>\n",
       "    <tr>\n",
       "      <th>2023-04</th>\n",
       "      <td>9.57</td>\n",
       "    </tr>\n",
       "    <tr>\n",
       "      <th>2023-05</th>\n",
       "      <td>25.26</td>\n",
       "    </tr>\n",
       "    <tr>\n",
       "      <th>2023-06</th>\n",
       "      <td>-6.40</td>\n",
       "    </tr>\n",
       "    <tr>\n",
       "      <th>2023-07</th>\n",
       "      <td>-45.09</td>\n",
       "    </tr>\n",
       "    <tr>\n",
       "      <th>2023-08</th>\n",
       "      <td>79.93</td>\n",
       "    </tr>\n",
       "    <tr>\n",
       "      <th>2023-09</th>\n",
       "      <td>39.02</td>\n",
       "    </tr>\n",
       "    <tr>\n",
       "      <th>2023-10</th>\n",
       "      <td>-21.34</td>\n",
       "    </tr>\n",
       "    <tr>\n",
       "      <th>2023-11</th>\n",
       "      <td>52.27</td>\n",
       "    </tr>\n",
       "    <tr>\n",
       "      <th>2023-12</th>\n",
       "      <td>-55.73</td>\n",
       "    </tr>\n",
       "    <tr>\n",
       "      <th>2024-01</th>\n",
       "      <td>-58.53</td>\n",
       "    </tr>\n",
       "    <tr>\n",
       "      <th>2024-02</th>\n",
       "      <td>186.02</td>\n",
       "    </tr>\n",
       "    <tr>\n",
       "      <th>2024-03</th>\n",
       "      <td>28.04</td>\n",
       "    </tr>\n",
       "    <tr>\n",
       "      <th>2024-04</th>\n",
       "      <td>-73.77</td>\n",
       "    </tr>\n",
       "    <tr>\n",
       "      <th>2024-05</th>\n",
       "      <td>374.56</td>\n",
       "    </tr>\n",
       "    <tr>\n",
       "      <th>2024-06</th>\n",
       "      <td>15.97</td>\n",
       "    </tr>\n",
       "    <tr>\n",
       "      <th>2024-07</th>\n",
       "      <td>-58.97</td>\n",
       "    </tr>\n",
       "    <tr>\n",
       "      <th>2024-08</th>\n",
       "      <td>104.84</td>\n",
       "    </tr>\n",
       "    <tr>\n",
       "      <th>2024-09</th>\n",
       "      <td>-38.63</td>\n",
       "    </tr>\n",
       "    <tr>\n",
       "      <th>2024-10</th>\n",
       "      <td>173.11</td>\n",
       "    </tr>\n",
       "    <tr>\n",
       "      <th>2024-11</th>\n",
       "      <td>-57.33</td>\n",
       "    </tr>\n",
       "    <tr>\n",
       "      <th>2024-12</th>\n",
       "      <td>-26.11</td>\n",
       "    </tr>\n",
       "  </tbody>\n",
       "</table>\n",
       "</div>"
      ],
      "text/plain": [
       "         Crescimento %\n",
       "Ano_Mes               \n",
       "2023-01            NaN\n",
       "2023-02          57.61\n",
       "2023-03          17.27\n",
       "2023-04           9.57\n",
       "2023-05          25.26\n",
       "2023-06          -6.40\n",
       "2023-07         -45.09\n",
       "2023-08          79.93\n",
       "2023-09          39.02\n",
       "2023-10         -21.34\n",
       "2023-11          52.27\n",
       "2023-12         -55.73\n",
       "2024-01         -58.53\n",
       "2024-02         186.02\n",
       "2024-03          28.04\n",
       "2024-04         -73.77\n",
       "2024-05         374.56\n",
       "2024-06          15.97\n",
       "2024-07         -58.97\n",
       "2024-08         104.84\n",
       "2024-09         -38.63\n",
       "2024-10         173.11\n",
       "2024-11         -57.33\n",
       "2024-12         -26.11"
      ]
     },
     "metadata": {},
     "output_type": "display_data"
    },
    {
     "data": {
      "text/markdown": [
       "**Visão Mensal das Métricas Avançadas**"
      ],
      "text/plain": [
       "<IPython.core.display.Markdown object>"
      ]
     },
     "metadata": {},
     "output_type": "display_data"
    },
    {
     "data": {
      "text/html": [
       "<style type=\"text/css\">\n",
       "</style>\n",
       "<table id=\"T_6336d\">\n",
       "  <thead>\n",
       "    <tr>\n",
       "      <th class=\"blank level0\" >&nbsp;</th>\n",
       "      <th id=\"T_6336d_level0_col0\" class=\"col_heading level0 col0\" >Ano_Mes</th>\n",
       "      <th id=\"T_6336d_level0_col1\" class=\"col_heading level0 col1\" >SellIn</th>\n",
       "      <th id=\"T_6336d_level0_col2\" class=\"col_heading level0 col2\" >SellOut</th>\n",
       "      <th id=\"T_6336d_level0_col3\" class=\"col_heading level0 col3\" >Unidades_SellThrough</th>\n",
       "      <th id=\"T_6336d_level0_col4\" class=\"col_heading level0 col4\" >SellThroughRate</th>\n",
       "      <th id=\"T_6336d_level0_col5\" class=\"col_heading level0 col5\" >TicketMedio</th>\n",
       "      <th id=\"T_6336d_level0_col6\" class=\"col_heading level0 col6\" >CrescimentoSellIn</th>\n",
       "    </tr>\n",
       "  </thead>\n",
       "  <tbody>\n",
       "    <tr>\n",
       "      <th id=\"T_6336d_level0_row0\" class=\"row_heading level0 row0\" >0</th>\n",
       "      <td id=\"T_6336d_row0_col0\" class=\"data row0 col0\" >2023-01</td>\n",
       "      <td id=\"T_6336d_row0_col1\" class=\"data row0 col1\" >R$ 1,915,287</td>\n",
       "      <td id=\"T_6336d_row0_col2\" class=\"data row0 col2\" >R$ 899,398</td>\n",
       "      <td id=\"T_6336d_row0_col3\" class=\"data row0 col3\" >219804</td>\n",
       "      <td id=\"T_6336d_row0_col4\" class=\"data row0 col4\" >46.96%</td>\n",
       "      <td id=\"T_6336d_row0_col5\" class=\"data row0 col5\" >R$ 4.09</td>\n",
       "      <td id=\"T_6336d_row0_col6\" class=\"data row0 col6\" >nan%</td>\n",
       "    </tr>\n",
       "    <tr>\n",
       "      <th id=\"T_6336d_level0_row1\" class=\"row_heading level0 row1\" >1</th>\n",
       "      <td id=\"T_6336d_row1_col0\" class=\"data row1 col0\" >2023-02</td>\n",
       "      <td id=\"T_6336d_row1_col1\" class=\"data row1 col1\" >R$ 3,018,623</td>\n",
       "      <td id=\"T_6336d_row1_col2\" class=\"data row1 col2\" >R$ 1,489,359</td>\n",
       "      <td id=\"T_6336d_row1_col3\" class=\"data row1 col3\" >346704</td>\n",
       "      <td id=\"T_6336d_row1_col4\" class=\"data row1 col4\" >49.34%</td>\n",
       "      <td id=\"T_6336d_row1_col5\" class=\"data row1 col5\" >R$ 4.30</td>\n",
       "      <td id=\"T_6336d_row1_col6\" class=\"data row1 col6\" >57.61%</td>\n",
       "    </tr>\n",
       "    <tr>\n",
       "      <th id=\"T_6336d_level0_row2\" class=\"row_heading level0 row2\" >2</th>\n",
       "      <td id=\"T_6336d_row2_col0\" class=\"data row2 col0\" >2023-03</td>\n",
       "      <td id=\"T_6336d_row2_col1\" class=\"data row2 col1\" >R$ 3,539,933</td>\n",
       "      <td id=\"T_6336d_row2_col2\" class=\"data row2 col2\" >R$ 1,143,771</td>\n",
       "      <td id=\"T_6336d_row2_col3\" class=\"data row2 col3\" >247680</td>\n",
       "      <td id=\"T_6336d_row2_col4\" class=\"data row2 col4\" >32.31%</td>\n",
       "      <td id=\"T_6336d_row2_col5\" class=\"data row2 col5\" >R$ 4.62</td>\n",
       "      <td id=\"T_6336d_row2_col6\" class=\"data row2 col6\" >17.27%</td>\n",
       "    </tr>\n",
       "    <tr>\n",
       "      <th id=\"T_6336d_level0_row3\" class=\"row_heading level0 row3\" >3</th>\n",
       "      <td id=\"T_6336d_row3_col0\" class=\"data row3 col0\" >2023-04</td>\n",
       "      <td id=\"T_6336d_row3_col1\" class=\"data row3 col1\" >R$ 3,878,737</td>\n",
       "      <td id=\"T_6336d_row3_col2\" class=\"data row3 col2\" >R$ 1,532,981</td>\n",
       "      <td id=\"T_6336d_row3_col3\" class=\"data row3 col3\" >349572</td>\n",
       "      <td id=\"T_6336d_row3_col4\" class=\"data row3 col4\" >39.52%</td>\n",
       "      <td id=\"T_6336d_row3_col5\" class=\"data row3 col5\" >R$ 4.39</td>\n",
       "      <td id=\"T_6336d_row3_col6\" class=\"data row3 col6\" >9.57%</td>\n",
       "    </tr>\n",
       "    <tr>\n",
       "      <th id=\"T_6336d_level0_row4\" class=\"row_heading level0 row4\" >4</th>\n",
       "      <td id=\"T_6336d_row4_col0\" class=\"data row4 col0\" >2023-05</td>\n",
       "      <td id=\"T_6336d_row4_col1\" class=\"data row4 col1\" >R$ 4,858,471</td>\n",
       "      <td id=\"T_6336d_row4_col2\" class=\"data row4 col2\" >R$ 1,214,656</td>\n",
       "      <td id=\"T_6336d_row4_col3\" class=\"data row4 col3\" >282948</td>\n",
       "      <td id=\"T_6336d_row4_col4\" class=\"data row4 col4\" >25.00%</td>\n",
       "      <td id=\"T_6336d_row4_col5\" class=\"data row4 col5\" >R$ 4.29</td>\n",
       "      <td id=\"T_6336d_row4_col6\" class=\"data row4 col6\" >25.26%</td>\n",
       "    </tr>\n",
       "    <tr>\n",
       "      <th id=\"T_6336d_level0_row5\" class=\"row_heading level0 row5\" >5</th>\n",
       "      <td id=\"T_6336d_row5_col0\" class=\"data row5 col0\" >2023-06</td>\n",
       "      <td id=\"T_6336d_row5_col1\" class=\"data row5 col1\" >R$ 4,547,449</td>\n",
       "      <td id=\"T_6336d_row5_col2\" class=\"data row5 col2\" >R$ 1,124,491</td>\n",
       "      <td id=\"T_6336d_row5_col3\" class=\"data row5 col3\" >266730</td>\n",
       "      <td id=\"T_6336d_row5_col4\" class=\"data row5 col4\" >24.73%</td>\n",
       "      <td id=\"T_6336d_row5_col5\" class=\"data row5 col5\" >R$ 4.22</td>\n",
       "      <td id=\"T_6336d_row5_col6\" class=\"data row5 col6\" >-6.40%</td>\n",
       "    </tr>\n",
       "    <tr>\n",
       "      <th id=\"T_6336d_level0_row6\" class=\"row_heading level0 row6\" >6</th>\n",
       "      <td id=\"T_6336d_row6_col0\" class=\"data row6 col0\" >2023-07</td>\n",
       "      <td id=\"T_6336d_row6_col1\" class=\"data row6 col1\" >R$ 2,496,995</td>\n",
       "      <td id=\"T_6336d_row6_col2\" class=\"data row6 col2\" >R$ 1,240,954</td>\n",
       "      <td id=\"T_6336d_row6_col3\" class=\"data row6 col3\" >274364</td>\n",
       "      <td id=\"T_6336d_row6_col4\" class=\"data row6 col4\" >49.70%</td>\n",
       "      <td id=\"T_6336d_row6_col5\" class=\"data row6 col5\" >R$ 4.52</td>\n",
       "      <td id=\"T_6336d_row6_col6\" class=\"data row6 col6\" >-45.09%</td>\n",
       "    </tr>\n",
       "    <tr>\n",
       "      <th id=\"T_6336d_level0_row7\" class=\"row_heading level0 row7\" >7</th>\n",
       "      <td id=\"T_6336d_row7_col0\" class=\"data row7 col0\" >2023-08</td>\n",
       "      <td id=\"T_6336d_row7_col1\" class=\"data row7 col1\" >R$ 4,492,848</td>\n",
       "      <td id=\"T_6336d_row7_col2\" class=\"data row7 col2\" >R$ 1,032,151</td>\n",
       "      <td id=\"T_6336d_row7_col3\" class=\"data row7 col3\" >297633</td>\n",
       "      <td id=\"T_6336d_row7_col4\" class=\"data row7 col4\" >22.97%</td>\n",
       "      <td id=\"T_6336d_row7_col5\" class=\"data row7 col5\" >R$ 3.47</td>\n",
       "      <td id=\"T_6336d_row7_col6\" class=\"data row7 col6\" >79.93%</td>\n",
       "    </tr>\n",
       "    <tr>\n",
       "      <th id=\"T_6336d_level0_row8\" class=\"row_heading level0 row8\" >8</th>\n",
       "      <td id=\"T_6336d_row8_col0\" class=\"data row8 col0\" >2023-09</td>\n",
       "      <td id=\"T_6336d_row8_col1\" class=\"data row8 col1\" >R$ 6,245,769</td>\n",
       "      <td id=\"T_6336d_row8_col2\" class=\"data row8 col2\" >R$ 1,404,807</td>\n",
       "      <td id=\"T_6336d_row8_col3\" class=\"data row8 col3\" >355602</td>\n",
       "      <td id=\"T_6336d_row8_col4\" class=\"data row8 col4\" >22.49%</td>\n",
       "      <td id=\"T_6336d_row8_col5\" class=\"data row8 col5\" >R$ 3.95</td>\n",
       "      <td id=\"T_6336d_row8_col6\" class=\"data row8 col6\" >39.02%</td>\n",
       "    </tr>\n",
       "    <tr>\n",
       "      <th id=\"T_6336d_level0_row9\" class=\"row_heading level0 row9\" >9</th>\n",
       "      <td id=\"T_6336d_row9_col0\" class=\"data row9 col0\" >2023-10</td>\n",
       "      <td id=\"T_6336d_row9_col1\" class=\"data row9 col1\" >R$ 4,912,862</td>\n",
       "      <td id=\"T_6336d_row9_col2\" class=\"data row9 col2\" >R$ 1,198,266</td>\n",
       "      <td id=\"T_6336d_row9_col3\" class=\"data row9 col3\" >340700</td>\n",
       "      <td id=\"T_6336d_row9_col4\" class=\"data row9 col4\" >24.39%</td>\n",
       "      <td id=\"T_6336d_row9_col5\" class=\"data row9 col5\" >R$ 3.52</td>\n",
       "      <td id=\"T_6336d_row9_col6\" class=\"data row9 col6\" >-21.34%</td>\n",
       "    </tr>\n",
       "    <tr>\n",
       "      <th id=\"T_6336d_level0_row10\" class=\"row_heading level0 row10\" >10</th>\n",
       "      <td id=\"T_6336d_row10_col0\" class=\"data row10 col0\" >2023-11</td>\n",
       "      <td id=\"T_6336d_row10_col1\" class=\"data row10 col1\" >R$ 7,480,873</td>\n",
       "      <td id=\"T_6336d_row10_col2\" class=\"data row10 col2\" >R$ 989,718</td>\n",
       "      <td id=\"T_6336d_row10_col3\" class=\"data row10 col3\" >256128</td>\n",
       "      <td id=\"T_6336d_row10_col4\" class=\"data row10 col4\" >13.23%</td>\n",
       "      <td id=\"T_6336d_row10_col5\" class=\"data row10 col5\" >R$ 3.86</td>\n",
       "      <td id=\"T_6336d_row10_col6\" class=\"data row10 col6\" >52.27%</td>\n",
       "    </tr>\n",
       "    <tr>\n",
       "      <th id=\"T_6336d_level0_row11\" class=\"row_heading level0 row11\" >11</th>\n",
       "      <td id=\"T_6336d_row11_col0\" class=\"data row11 col0\" >2023-12</td>\n",
       "      <td id=\"T_6336d_row11_col1\" class=\"data row11 col1\" >R$ 3,311,673</td>\n",
       "      <td id=\"T_6336d_row11_col2\" class=\"data row11 col2\" >R$ 1,258,641</td>\n",
       "      <td id=\"T_6336d_row11_col3\" class=\"data row11 col3\" >335676</td>\n",
       "      <td id=\"T_6336d_row11_col4\" class=\"data row11 col4\" >38.01%</td>\n",
       "      <td id=\"T_6336d_row11_col5\" class=\"data row11 col5\" >R$ 3.75</td>\n",
       "      <td id=\"T_6336d_row11_col6\" class=\"data row11 col6\" >-55.73%</td>\n",
       "    </tr>\n",
       "    <tr>\n",
       "      <th id=\"T_6336d_level0_row12\" class=\"row_heading level0 row12\" >12</th>\n",
       "      <td id=\"T_6336d_row12_col0\" class=\"data row12 col0\" >2024-01</td>\n",
       "      <td id=\"T_6336d_row12_col1\" class=\"data row12 col1\" >R$ 1,373,389</td>\n",
       "      <td id=\"T_6336d_row12_col2\" class=\"data row12 col2\" >R$ 765,951</td>\n",
       "      <td id=\"T_6336d_row12_col3\" class=\"data row12 col3\" >224520</td>\n",
       "      <td id=\"T_6336d_row12_col4\" class=\"data row12 col4\" >55.77%</td>\n",
       "      <td id=\"T_6336d_row12_col5\" class=\"data row12 col5\" >R$ 3.41</td>\n",
       "      <td id=\"T_6336d_row12_col6\" class=\"data row12 col6\" >-58.53%</td>\n",
       "    </tr>\n",
       "    <tr>\n",
       "      <th id=\"T_6336d_level0_row13\" class=\"row_heading level0 row13\" >13</th>\n",
       "      <td id=\"T_6336d_row13_col0\" class=\"data row13 col0\" >2024-02</td>\n",
       "      <td id=\"T_6336d_row13_col1\" class=\"data row13 col1\" >R$ 3,928,107</td>\n",
       "      <td id=\"T_6336d_row13_col2\" class=\"data row13 col2\" >R$ 1,242,154</td>\n",
       "      <td id=\"T_6336d_row13_col3\" class=\"data row13 col3\" >314636</td>\n",
       "      <td id=\"T_6336d_row13_col4\" class=\"data row13 col4\" >31.62%</td>\n",
       "      <td id=\"T_6336d_row13_col5\" class=\"data row13 col5\" >R$ 3.95</td>\n",
       "      <td id=\"T_6336d_row13_col6\" class=\"data row13 col6\" >186.02%</td>\n",
       "    </tr>\n",
       "    <tr>\n",
       "      <th id=\"T_6336d_level0_row14\" class=\"row_heading level0 row14\" >14</th>\n",
       "      <td id=\"T_6336d_row14_col0\" class=\"data row14 col0\" >2024-03</td>\n",
       "      <td id=\"T_6336d_row14_col1\" class=\"data row14 col1\" >R$ 5,029,536</td>\n",
       "      <td id=\"T_6336d_row14_col2\" class=\"data row14 col2\" >R$ 1,059,911</td>\n",
       "      <td id=\"T_6336d_row14_col3\" class=\"data row14 col3\" >294804</td>\n",
       "      <td id=\"T_6336d_row14_col4\" class=\"data row14 col4\" >21.07%</td>\n",
       "      <td id=\"T_6336d_row14_col5\" class=\"data row14 col5\" >R$ 3.60</td>\n",
       "      <td id=\"T_6336d_row14_col6\" class=\"data row14 col6\" >28.04%</td>\n",
       "    </tr>\n",
       "    <tr>\n",
       "      <th id=\"T_6336d_level0_row15\" class=\"row_heading level0 row15\" >15</th>\n",
       "      <td id=\"T_6336d_row15_col0\" class=\"data row15 col0\" >2024-04</td>\n",
       "      <td id=\"T_6336d_row15_col1\" class=\"data row15 col1\" >R$ 1,319,490</td>\n",
       "      <td id=\"T_6336d_row15_col2\" class=\"data row15 col2\" >R$ 1,432,513</td>\n",
       "      <td id=\"T_6336d_row15_col3\" class=\"data row15 col3\" >450981</td>\n",
       "      <td id=\"T_6336d_row15_col4\" class=\"data row15 col4\" >108.57%</td>\n",
       "      <td id=\"T_6336d_row15_col5\" class=\"data row15 col5\" >R$ 3.18</td>\n",
       "      <td id=\"T_6336d_row15_col6\" class=\"data row15 col6\" >-73.77%</td>\n",
       "    </tr>\n",
       "    <tr>\n",
       "      <th id=\"T_6336d_level0_row16\" class=\"row_heading level0 row16\" >16</th>\n",
       "      <td id=\"T_6336d_row16_col0\" class=\"data row16 col0\" >2024-05</td>\n",
       "      <td id=\"T_6336d_row16_col1\" class=\"data row16 col1\" >R$ 6,261,826</td>\n",
       "      <td id=\"T_6336d_row16_col2\" class=\"data row16 col2\" >R$ 1,183,609</td>\n",
       "      <td id=\"T_6336d_row16_col3\" class=\"data row16 col3\" >289817</td>\n",
       "      <td id=\"T_6336d_row16_col4\" class=\"data row16 col4\" >18.90%</td>\n",
       "      <td id=\"T_6336d_row16_col5\" class=\"data row16 col5\" >R$ 4.08</td>\n",
       "      <td id=\"T_6336d_row16_col6\" class=\"data row16 col6\" >374.56%</td>\n",
       "    </tr>\n",
       "    <tr>\n",
       "      <th id=\"T_6336d_level0_row17\" class=\"row_heading level0 row17\" >17</th>\n",
       "      <td id=\"T_6336d_row17_col0\" class=\"data row17 col0\" >2024-06</td>\n",
       "      <td id=\"T_6336d_row17_col1\" class=\"data row17 col1\" >R$ 7,261,554</td>\n",
       "      <td id=\"T_6336d_row17_col2\" class=\"data row17 col2\" >R$ 1,234,525</td>\n",
       "      <td id=\"T_6336d_row17_col3\" class=\"data row17 col3\" >324313</td>\n",
       "      <td id=\"T_6336d_row17_col4\" class=\"data row17 col4\" >17.00%</td>\n",
       "      <td id=\"T_6336d_row17_col5\" class=\"data row17 col5\" >R$ 3.81</td>\n",
       "      <td id=\"T_6336d_row17_col6\" class=\"data row17 col6\" >15.97%</td>\n",
       "    </tr>\n",
       "    <tr>\n",
       "      <th id=\"T_6336d_level0_row18\" class=\"row_heading level0 row18\" >18</th>\n",
       "      <td id=\"T_6336d_row18_col0\" class=\"data row18 col0\" >2024-07</td>\n",
       "      <td id=\"T_6336d_row18_col1\" class=\"data row18 col1\" >R$ 2,979,205</td>\n",
       "      <td id=\"T_6336d_row18_col2\" class=\"data row18 col2\" >R$ 1,499,972</td>\n",
       "      <td id=\"T_6336d_row18_col3\" class=\"data row18 col3\" >364341</td>\n",
       "      <td id=\"T_6336d_row18_col4\" class=\"data row18 col4\" >50.35%</td>\n",
       "      <td id=\"T_6336d_row18_col5\" class=\"data row18 col5\" >R$ 4.12</td>\n",
       "      <td id=\"T_6336d_row18_col6\" class=\"data row18 col6\" >-58.97%</td>\n",
       "    </tr>\n",
       "    <tr>\n",
       "      <th id=\"T_6336d_level0_row19\" class=\"row_heading level0 row19\" >19</th>\n",
       "      <td id=\"T_6336d_row19_col0\" class=\"data row19 col0\" >2024-08</td>\n",
       "      <td id=\"T_6336d_row19_col1\" class=\"data row19 col1\" >R$ 6,102,641</td>\n",
       "      <td id=\"T_6336d_row19_col2\" class=\"data row19 col2\" >R$ 1,493,645</td>\n",
       "      <td id=\"T_6336d_row19_col3\" class=\"data row19 col3\" >387409</td>\n",
       "      <td id=\"T_6336d_row19_col4\" class=\"data row19 col4\" >24.48%</td>\n",
       "      <td id=\"T_6336d_row19_col5\" class=\"data row19 col5\" >R$ 3.86</td>\n",
       "      <td id=\"T_6336d_row19_col6\" class=\"data row19 col6\" >104.84%</td>\n",
       "    </tr>\n",
       "    <tr>\n",
       "      <th id=\"T_6336d_level0_row20\" class=\"row_heading level0 row20\" >20</th>\n",
       "      <td id=\"T_6336d_row20_col0\" class=\"data row20 col0\" >2024-09</td>\n",
       "      <td id=\"T_6336d_row20_col1\" class=\"data row20 col1\" >R$ 3,745,270</td>\n",
       "      <td id=\"T_6336d_row20_col2\" class=\"data row20 col2\" >R$ 1,546,111</td>\n",
       "      <td id=\"T_6336d_row20_col3\" class=\"data row20 col3\" >373004</td>\n",
       "      <td id=\"T_6336d_row20_col4\" class=\"data row20 col4\" >41.28%</td>\n",
       "      <td id=\"T_6336d_row20_col5\" class=\"data row20 col5\" >R$ 4.15</td>\n",
       "      <td id=\"T_6336d_row20_col6\" class=\"data row20 col6\" >-38.63%</td>\n",
       "    </tr>\n",
       "    <tr>\n",
       "      <th id=\"T_6336d_level0_row21\" class=\"row_heading level0 row21\" >21</th>\n",
       "      <td id=\"T_6336d_row21_col0\" class=\"data row21 col0\" >2024-10</td>\n",
       "      <td id=\"T_6336d_row21_col1\" class=\"data row21 col1\" >R$ 10,228,881</td>\n",
       "      <td id=\"T_6336d_row21_col2\" class=\"data row21 col2\" >R$ 1,497,582</td>\n",
       "      <td id=\"T_6336d_row21_col3\" class=\"data row21 col3\" >381936</td>\n",
       "      <td id=\"T_6336d_row21_col4\" class=\"data row21 col4\" >14.64%</td>\n",
       "      <td id=\"T_6336d_row21_col5\" class=\"data row21 col5\" >R$ 3.92</td>\n",
       "      <td id=\"T_6336d_row21_col6\" class=\"data row21 col6\" >173.11%</td>\n",
       "    </tr>\n",
       "    <tr>\n",
       "      <th id=\"T_6336d_level0_row22\" class=\"row_heading level0 row22\" >22</th>\n",
       "      <td id=\"T_6336d_row22_col0\" class=\"data row22 col0\" >2024-11</td>\n",
       "      <td id=\"T_6336d_row22_col1\" class=\"data row22 col1\" >R$ 4,364,239</td>\n",
       "      <td id=\"T_6336d_row22_col2\" class=\"data row22 col2\" >R$ 1,296,377</td>\n",
       "      <td id=\"T_6336d_row22_col3\" class=\"data row22 col3\" >331158</td>\n",
       "      <td id=\"T_6336d_row22_col4\" class=\"data row22 col4\" >29.70%</td>\n",
       "      <td id=\"T_6336d_row22_col5\" class=\"data row22 col5\" >R$ 3.91</td>\n",
       "      <td id=\"T_6336d_row22_col6\" class=\"data row22 col6\" >-57.33%</td>\n",
       "    </tr>\n",
       "    <tr>\n",
       "      <th id=\"T_6336d_level0_row23\" class=\"row_heading level0 row23\" >23</th>\n",
       "      <td id=\"T_6336d_row23_col0\" class=\"data row23 col0\" >2024-12</td>\n",
       "      <td id=\"T_6336d_row23_col1\" class=\"data row23 col1\" >R$ 3,224,559</td>\n",
       "      <td id=\"T_6336d_row23_col2\" class=\"data row23 col2\" >R$ 1,119,992</td>\n",
       "      <td id=\"T_6336d_row23_col3\" class=\"data row23 col3\" >269437</td>\n",
       "      <td id=\"T_6336d_row23_col4\" class=\"data row23 col4\" >34.73%</td>\n",
       "      <td id=\"T_6336d_row23_col5\" class=\"data row23 col5\" >R$ 4.16</td>\n",
       "      <td id=\"T_6336d_row23_col6\" class=\"data row23 col6\" >-26.11%</td>\n",
       "    </tr>\n",
       "  </tbody>\n",
       "</table>\n"
      ],
      "text/plain": [
       "<pandas.io.formats.style.Styler at 0x2286b2a61b0>"
      ]
     },
     "metadata": {},
     "output_type": "display_data"
    }
   ],
   "source": [
    "# KPIs Globais\n",
    "total_sell_in     = sell_in['Valor_Total'].sum()\n",
    "total_box_sell_in = sell_in['Quantidade'].sum()\n",
    "total_sell_out    = sell_out['Valor_SellThrough'].sum()\n",
    "total_box_sell_out = sell_out['Caixas_SellThrough'].sum()\n",
    "total_unidades_sell_out = sell_out['Unidades_SellThrough'].sum()\n",
    "sell_through_rate = total_sell_out / total_sell_in\n",
    "ticket_medio_out     = total_sell_out / sell_out['Unidades_SellThrough'].sum()\n",
    "ticket_medio_in      = total_sell_in / sell_in['Quantidade'].sum()\n",
    "crescimento_mensal = (\n",
    "    sell_in.groupby('Ano_Mes')['Valor_Total'].sum()\n",
    "      .pct_change().mul(100).round(2)\n",
    ")\n",
    "\n",
    "display(Markdown(f\"**Total Sell In:**   R$ {total_sell_in:,.2f}\"))\n",
    "display(Markdown(f\"**Total Caixas Sell In:** {total_box_sell_in:,.0f}\"))\n",
    "display(Markdown(f\"**Total Sell Out:**  R$ {total_sell_out:,.2f}\"))\n",
    "display(Markdown(f\"**Total Caixas Sell Out:** {total_box_sell_out:,.0f}\"))\n",
    "display(Markdown(f\"**Total Unidades Sell Out:** {total_unidades_sell_out:,.0f}\"))\n",
    "display(Markdown(f\"**Sell-Through Rate:** {sell_through_rate:.2%}\"))\n",
    "display(Markdown(f\"**Ticket Médio:**     R$ {ticket_medio_out:,.2f}\"))\n",
    "display(Markdown(f\"**Ticket Médio Sell In:** R$ {ticket_medio_in:,.2f}\")) \n",
    "display(Markdown(\"**Crescimento Mensal de Sell In (%):**\"))\n",
    "display(crescimento_mensal.to_frame(\"Crescimento %\"))\n",
    "\n",
    "\n",
    "df_units = sell_out.groupby('Ano_Mes')['Unidades_SellThrough'].sum().reset_index()\n",
    "df_monthly = df_sn.merge(df_so, on='Ano_Mes').merge(df_units, on='Ano_Mes')\n",
    "df_monthly['SellThroughRate']   = df_monthly['SellOut'] / df_monthly['SellIn']\n",
    "df_monthly['TicketMedio']       = df_monthly['SellOut'] / df_monthly['Unidades_SellThrough']\n",
    "df_monthly['CrescimentoSellIn'] = df_monthly['SellIn'].pct_change().mul(100).round(2)\n",
    "display(Markdown('**Visão Mensal das Métricas Avançadas**'))\n",
    "display(df_monthly.style.format({\n",
    "    'SellIn':'R$ {:,.0f}','SellOut':'R$ {:,.0f}',\n",
    "    'SellThroughRate':'{:.2%}','TicketMedio':'R$ {:,.2f}',\n",
    "    'CrescimentoSellIn':'{:.2f}%'\n",
    "}))"
   ]
  },
  {
   "cell_type": "code",
   "execution_count": 18,
   "id": "6f5edc98",
   "metadata": {},
   "outputs": [
    {
     "data": {
      "application/vnd.plotly.v1+json": {
       "config": {
        "plotlyServerURL": "https://plot.ly"
       },
       "data": [
        {
         "hovertemplate": "Métrica=SellIn<br>Mês/Ano=%{x}<br>R$=%{y}<extra></extra>",
         "legendgroup": "SellIn",
         "line": {
          "color": "#636efa",
          "dash": "solid"
         },
         "marker": {
          "symbol": "circle"
         },
         "mode": "lines",
         "name": "SellIn",
         "orientation": "v",
         "showlegend": true,
         "type": "scatter",
         "x": [
          "2023-01",
          "2023-02",
          "2023-03",
          "2023-04",
          "2023-05",
          "2023-06",
          "2023-07",
          "2023-08",
          "2023-09",
          "2023-10",
          "2023-11",
          "2023-12",
          "2024-01",
          "2024-02",
          "2024-03",
          "2024-04",
          "2024-05",
          "2024-06",
          "2024-07",
          "2024-08",
          "2024-09",
          "2024-10",
          "2024-11",
          "2024-12"
         ],
         "xaxis": "x",
         "y": [
          1915286.94,
          3018623.41,
          3539933.43,
          3878737.25,
          4858471.14,
          4547449.3,
          2496995.3,
          4492847.63,
          6245768.75,
          4912861.93,
          7480872.73,
          3311672.95,
          1373389.31,
          3928107.28,
          5029536.36,
          1319489.79,
          6261825.76,
          7261554.49,
          2979205.2600000002,
          6102640.5200000005,
          3745270.45,
          10228880.83,
          4364239.44,
          3224559.11
         ],
         "yaxis": "y"
        },
        {
         "hovertemplate": "Métrica=SellOut<br>Mês/Ano=%{x}<br>R$=%{y}<extra></extra>",
         "legendgroup": "SellOut",
         "line": {
          "color": "#EF553B",
          "dash": "solid"
         },
         "marker": {
          "symbol": "circle"
         },
         "mode": "lines",
         "name": "SellOut",
         "orientation": "v",
         "showlegend": true,
         "type": "scatter",
         "x": [
          "2023-01",
          "2023-02",
          "2023-03",
          "2023-04",
          "2023-05",
          "2023-06",
          "2023-07",
          "2023-08",
          "2023-09",
          "2023-10",
          "2023-11",
          "2023-12",
          "2024-01",
          "2024-02",
          "2024-03",
          "2024-04",
          "2024-05",
          "2024-06",
          "2024-07",
          "2024-08",
          "2024-09",
          "2024-10",
          "2024-11",
          "2024-12"
         ],
         "xaxis": "x",
         "y": [
          899398.43716427,
          1489359.23265045,
          1143771.47169483,
          1532981.45205645,
          1214656.47153457,
          1124490.65486485,
          1240953.99595249,
          1032151.06902693,
          1404806.69034082,
          1198265.75077194,
          989718.11529437,
          1258640.99455664,
          765950.63963779,
          1242153.73255367,
          1059911.29673863,
          1432513.28592516,
          1183609.34680997,
          1234525.46583771,
          1499972.1030921,
          1493644.52552053,
          1546111.45491307,
          1497582.29456348,
          1296377.33515213,
          1119992.00459335
         ],
         "yaxis": "y"
        }
       ],
       "layout": {
        "legend": {
         "title": {
          "text": "Métrica"
         },
         "tracegroupgap": 0
        },
        "template": {
         "data": {
          "bar": [
           {
            "error_x": {
             "color": "#2a3f5f"
            },
            "error_y": {
             "color": "#2a3f5f"
            },
            "marker": {
             "line": {
              "color": "#E5ECF6",
              "width": 0.5
             },
             "pattern": {
              "fillmode": "overlay",
              "size": 10,
              "solidity": 0.2
             }
            },
            "type": "bar"
           }
          ],
          "barpolar": [
           {
            "marker": {
             "line": {
              "color": "#E5ECF6",
              "width": 0.5
             },
             "pattern": {
              "fillmode": "overlay",
              "size": 10,
              "solidity": 0.2
             }
            },
            "type": "barpolar"
           }
          ],
          "carpet": [
           {
            "aaxis": {
             "endlinecolor": "#2a3f5f",
             "gridcolor": "white",
             "linecolor": "white",
             "minorgridcolor": "white",
             "startlinecolor": "#2a3f5f"
            },
            "baxis": {
             "endlinecolor": "#2a3f5f",
             "gridcolor": "white",
             "linecolor": "white",
             "minorgridcolor": "white",
             "startlinecolor": "#2a3f5f"
            },
            "type": "carpet"
           }
          ],
          "choropleth": [
           {
            "colorbar": {
             "outlinewidth": 0,
             "ticks": ""
            },
            "type": "choropleth"
           }
          ],
          "contour": [
           {
            "colorbar": {
             "outlinewidth": 0,
             "ticks": ""
            },
            "colorscale": [
             [
              0,
              "#0d0887"
             ],
             [
              0.1111111111111111,
              "#46039f"
             ],
             [
              0.2222222222222222,
              "#7201a8"
             ],
             [
              0.3333333333333333,
              "#9c179e"
             ],
             [
              0.4444444444444444,
              "#bd3786"
             ],
             [
              0.5555555555555556,
              "#d8576b"
             ],
             [
              0.6666666666666666,
              "#ed7953"
             ],
             [
              0.7777777777777778,
              "#fb9f3a"
             ],
             [
              0.8888888888888888,
              "#fdca26"
             ],
             [
              1,
              "#f0f921"
             ]
            ],
            "type": "contour"
           }
          ],
          "contourcarpet": [
           {
            "colorbar": {
             "outlinewidth": 0,
             "ticks": ""
            },
            "type": "contourcarpet"
           }
          ],
          "heatmap": [
           {
            "colorbar": {
             "outlinewidth": 0,
             "ticks": ""
            },
            "colorscale": [
             [
              0,
              "#0d0887"
             ],
             [
              0.1111111111111111,
              "#46039f"
             ],
             [
              0.2222222222222222,
              "#7201a8"
             ],
             [
              0.3333333333333333,
              "#9c179e"
             ],
             [
              0.4444444444444444,
              "#bd3786"
             ],
             [
              0.5555555555555556,
              "#d8576b"
             ],
             [
              0.6666666666666666,
              "#ed7953"
             ],
             [
              0.7777777777777778,
              "#fb9f3a"
             ],
             [
              0.8888888888888888,
              "#fdca26"
             ],
             [
              1,
              "#f0f921"
             ]
            ],
            "type": "heatmap"
           }
          ],
          "heatmapgl": [
           {
            "colorbar": {
             "outlinewidth": 0,
             "ticks": ""
            },
            "colorscale": [
             [
              0,
              "#0d0887"
             ],
             [
              0.1111111111111111,
              "#46039f"
             ],
             [
              0.2222222222222222,
              "#7201a8"
             ],
             [
              0.3333333333333333,
              "#9c179e"
             ],
             [
              0.4444444444444444,
              "#bd3786"
             ],
             [
              0.5555555555555556,
              "#d8576b"
             ],
             [
              0.6666666666666666,
              "#ed7953"
             ],
             [
              0.7777777777777778,
              "#fb9f3a"
             ],
             [
              0.8888888888888888,
              "#fdca26"
             ],
             [
              1,
              "#f0f921"
             ]
            ],
            "type": "heatmapgl"
           }
          ],
          "histogram": [
           {
            "marker": {
             "pattern": {
              "fillmode": "overlay",
              "size": 10,
              "solidity": 0.2
             }
            },
            "type": "histogram"
           }
          ],
          "histogram2d": [
           {
            "colorbar": {
             "outlinewidth": 0,
             "ticks": ""
            },
            "colorscale": [
             [
              0,
              "#0d0887"
             ],
             [
              0.1111111111111111,
              "#46039f"
             ],
             [
              0.2222222222222222,
              "#7201a8"
             ],
             [
              0.3333333333333333,
              "#9c179e"
             ],
             [
              0.4444444444444444,
              "#bd3786"
             ],
             [
              0.5555555555555556,
              "#d8576b"
             ],
             [
              0.6666666666666666,
              "#ed7953"
             ],
             [
              0.7777777777777778,
              "#fb9f3a"
             ],
             [
              0.8888888888888888,
              "#fdca26"
             ],
             [
              1,
              "#f0f921"
             ]
            ],
            "type": "histogram2d"
           }
          ],
          "histogram2dcontour": [
           {
            "colorbar": {
             "outlinewidth": 0,
             "ticks": ""
            },
            "colorscale": [
             [
              0,
              "#0d0887"
             ],
             [
              0.1111111111111111,
              "#46039f"
             ],
             [
              0.2222222222222222,
              "#7201a8"
             ],
             [
              0.3333333333333333,
              "#9c179e"
             ],
             [
              0.4444444444444444,
              "#bd3786"
             ],
             [
              0.5555555555555556,
              "#d8576b"
             ],
             [
              0.6666666666666666,
              "#ed7953"
             ],
             [
              0.7777777777777778,
              "#fb9f3a"
             ],
             [
              0.8888888888888888,
              "#fdca26"
             ],
             [
              1,
              "#f0f921"
             ]
            ],
            "type": "histogram2dcontour"
           }
          ],
          "mesh3d": [
           {
            "colorbar": {
             "outlinewidth": 0,
             "ticks": ""
            },
            "type": "mesh3d"
           }
          ],
          "parcoords": [
           {
            "line": {
             "colorbar": {
              "outlinewidth": 0,
              "ticks": ""
             }
            },
            "type": "parcoords"
           }
          ],
          "pie": [
           {
            "automargin": true,
            "type": "pie"
           }
          ],
          "scatter": [
           {
            "fillpattern": {
             "fillmode": "overlay",
             "size": 10,
             "solidity": 0.2
            },
            "type": "scatter"
           }
          ],
          "scatter3d": [
           {
            "line": {
             "colorbar": {
              "outlinewidth": 0,
              "ticks": ""
             }
            },
            "marker": {
             "colorbar": {
              "outlinewidth": 0,
              "ticks": ""
             }
            },
            "type": "scatter3d"
           }
          ],
          "scattercarpet": [
           {
            "marker": {
             "colorbar": {
              "outlinewidth": 0,
              "ticks": ""
             }
            },
            "type": "scattercarpet"
           }
          ],
          "scattergeo": [
           {
            "marker": {
             "colorbar": {
              "outlinewidth": 0,
              "ticks": ""
             }
            },
            "type": "scattergeo"
           }
          ],
          "scattergl": [
           {
            "marker": {
             "colorbar": {
              "outlinewidth": 0,
              "ticks": ""
             }
            },
            "type": "scattergl"
           }
          ],
          "scattermapbox": [
           {
            "marker": {
             "colorbar": {
              "outlinewidth": 0,
              "ticks": ""
             }
            },
            "type": "scattermapbox"
           }
          ],
          "scatterpolar": [
           {
            "marker": {
             "colorbar": {
              "outlinewidth": 0,
              "ticks": ""
             }
            },
            "type": "scatterpolar"
           }
          ],
          "scatterpolargl": [
           {
            "marker": {
             "colorbar": {
              "outlinewidth": 0,
              "ticks": ""
             }
            },
            "type": "scatterpolargl"
           }
          ],
          "scatterternary": [
           {
            "marker": {
             "colorbar": {
              "outlinewidth": 0,
              "ticks": ""
             }
            },
            "type": "scatterternary"
           }
          ],
          "surface": [
           {
            "colorbar": {
             "outlinewidth": 0,
             "ticks": ""
            },
            "colorscale": [
             [
              0,
              "#0d0887"
             ],
             [
              0.1111111111111111,
              "#46039f"
             ],
             [
              0.2222222222222222,
              "#7201a8"
             ],
             [
              0.3333333333333333,
              "#9c179e"
             ],
             [
              0.4444444444444444,
              "#bd3786"
             ],
             [
              0.5555555555555556,
              "#d8576b"
             ],
             [
              0.6666666666666666,
              "#ed7953"
             ],
             [
              0.7777777777777778,
              "#fb9f3a"
             ],
             [
              0.8888888888888888,
              "#fdca26"
             ],
             [
              1,
              "#f0f921"
             ]
            ],
            "type": "surface"
           }
          ],
          "table": [
           {
            "cells": {
             "fill": {
              "color": "#EBF0F8"
             },
             "line": {
              "color": "white"
             }
            },
            "header": {
             "fill": {
              "color": "#C8D4E3"
             },
             "line": {
              "color": "white"
             }
            },
            "type": "table"
           }
          ]
         },
         "layout": {
          "annotationdefaults": {
           "arrowcolor": "#2a3f5f",
           "arrowhead": 0,
           "arrowwidth": 1
          },
          "autotypenumbers": "strict",
          "coloraxis": {
           "colorbar": {
            "outlinewidth": 0,
            "ticks": ""
           }
          },
          "colorscale": {
           "diverging": [
            [
             0,
             "#8e0152"
            ],
            [
             0.1,
             "#c51b7d"
            ],
            [
             0.2,
             "#de77ae"
            ],
            [
             0.3,
             "#f1b6da"
            ],
            [
             0.4,
             "#fde0ef"
            ],
            [
             0.5,
             "#f7f7f7"
            ],
            [
             0.6,
             "#e6f5d0"
            ],
            [
             0.7,
             "#b8e186"
            ],
            [
             0.8,
             "#7fbc41"
            ],
            [
             0.9,
             "#4d9221"
            ],
            [
             1,
             "#276419"
            ]
           ],
           "sequential": [
            [
             0,
             "#0d0887"
            ],
            [
             0.1111111111111111,
             "#46039f"
            ],
            [
             0.2222222222222222,
             "#7201a8"
            ],
            [
             0.3333333333333333,
             "#9c179e"
            ],
            [
             0.4444444444444444,
             "#bd3786"
            ],
            [
             0.5555555555555556,
             "#d8576b"
            ],
            [
             0.6666666666666666,
             "#ed7953"
            ],
            [
             0.7777777777777778,
             "#fb9f3a"
            ],
            [
             0.8888888888888888,
             "#fdca26"
            ],
            [
             1,
             "#f0f921"
            ]
           ],
           "sequentialminus": [
            [
             0,
             "#0d0887"
            ],
            [
             0.1111111111111111,
             "#46039f"
            ],
            [
             0.2222222222222222,
             "#7201a8"
            ],
            [
             0.3333333333333333,
             "#9c179e"
            ],
            [
             0.4444444444444444,
             "#bd3786"
            ],
            [
             0.5555555555555556,
             "#d8576b"
            ],
            [
             0.6666666666666666,
             "#ed7953"
            ],
            [
             0.7777777777777778,
             "#fb9f3a"
            ],
            [
             0.8888888888888888,
             "#fdca26"
            ],
            [
             1,
             "#f0f921"
            ]
           ]
          },
          "colorway": [
           "#636efa",
           "#EF553B",
           "#00cc96",
           "#ab63fa",
           "#FFA15A",
           "#19d3f3",
           "#FF6692",
           "#B6E880",
           "#FF97FF",
           "#FECB52"
          ],
          "font": {
           "color": "#2a3f5f"
          },
          "geo": {
           "bgcolor": "white",
           "lakecolor": "white",
           "landcolor": "#E5ECF6",
           "showlakes": true,
           "showland": true,
           "subunitcolor": "white"
          },
          "hoverlabel": {
           "align": "left"
          },
          "hovermode": "closest",
          "mapbox": {
           "style": "light"
          },
          "paper_bgcolor": "white",
          "plot_bgcolor": "#E5ECF6",
          "polar": {
           "angularaxis": {
            "gridcolor": "white",
            "linecolor": "white",
            "ticks": ""
           },
           "bgcolor": "#E5ECF6",
           "radialaxis": {
            "gridcolor": "white",
            "linecolor": "white",
            "ticks": ""
           }
          },
          "scene": {
           "xaxis": {
            "backgroundcolor": "#E5ECF6",
            "gridcolor": "white",
            "gridwidth": 2,
            "linecolor": "white",
            "showbackground": true,
            "ticks": "",
            "zerolinecolor": "white"
           },
           "yaxis": {
            "backgroundcolor": "#E5ECF6",
            "gridcolor": "white",
            "gridwidth": 2,
            "linecolor": "white",
            "showbackground": true,
            "ticks": "",
            "zerolinecolor": "white"
           },
           "zaxis": {
            "backgroundcolor": "#E5ECF6",
            "gridcolor": "white",
            "gridwidth": 2,
            "linecolor": "white",
            "showbackground": true,
            "ticks": "",
            "zerolinecolor": "white"
           }
          },
          "shapedefaults": {
           "line": {
            "color": "#2a3f5f"
           }
          },
          "ternary": {
           "aaxis": {
            "gridcolor": "white",
            "linecolor": "white",
            "ticks": ""
           },
           "baxis": {
            "gridcolor": "white",
            "linecolor": "white",
            "ticks": ""
           },
           "bgcolor": "#E5ECF6",
           "caxis": {
            "gridcolor": "white",
            "linecolor": "white",
            "ticks": ""
           }
          },
          "title": {
           "x": 0.05
          },
          "xaxis": {
           "automargin": true,
           "gridcolor": "white",
           "linecolor": "white",
           "ticks": "",
           "title": {
            "standoff": 15
           },
           "zerolinecolor": "white",
           "zerolinewidth": 2
          },
          "yaxis": {
           "automargin": true,
           "gridcolor": "white",
           "linecolor": "white",
           "ticks": "",
           "title": {
            "standoff": 15
           },
           "zerolinecolor": "white",
           "zerolinewidth": 2
          }
         }
        },
        "title": {
         "text": "Evolução Mensal"
        },
        "xaxis": {
         "anchor": "y",
         "domain": [
          0,
          1
         ],
         "tickangle": 45,
         "title": {
          "text": "Mês/Ano"
         }
        },
        "yaxis": {
         "anchor": "x",
         "domain": [
          0,
          1
         ],
         "title": {
          "text": "R$"
         }
        }
       }
      }
     },
     "metadata": {},
     "output_type": "display_data"
    }
   ],
   "source": [
    "# Séries Temporais\n",
    "df_sn = sell_in.groupby('Ano_Mes')['Valor_Total'].sum().reset_index().rename(columns={'Valor_Total':'SellIn'})\n",
    "df_so = sell_out.groupby('Ano_Mes')['Valor_SellThrough'].sum().reset_index().rename(columns={'Valor_SellThrough':'SellOut'})\n",
    "df_ts = df_sn.merge(df_so, on='Ano_Mes')\n",
    "fig = px.line(df_ts, x='Ano_Mes', y=['SellIn','SellOut'], title='Evolução Mensal', labels={'value':'R$','Ano_Mes':'Mês/Ano','variable':'Métrica'})\n",
    "fig.update_xaxes(tickangle=45)\n",
    "fig.show()"
   ]
  },
  {
   "cell_type": "code",
   "execution_count": 19,
   "id": "55876918",
   "metadata": {},
   "outputs": [
    {
     "data": {
      "application/vnd.plotly.v1+json": {
       "config": {
        "plotlyServerURL": "https://plot.ly"
       },
       "data": [
        {
         "alignmentgroup": "True",
         "hovertemplate": "Valor_Total=%{x}<br>Tipo_Produto=%{y}<extra></extra>",
         "legendgroup": "",
         "marker": {
          "color": "#636efa",
          "pattern": {
           "shape": ""
          }
         },
         "name": "",
         "offsetgroup": "",
         "orientation": "h",
         "showlegend": false,
         "textposition": "auto",
         "type": "bar",
         "x": [
          66213083.05,
          20963548.87,
          10611134.41,
          7439960.9,
          1290492.13
         ],
         "xaxis": "x",
         "y": [
          "GOMA",
          "REGALIZ",
          "MARSH",
          "CHICLE",
          "OUTROS"
         ],
         "yaxis": "y"
        }
       ],
       "layout": {
        "barmode": "relative",
        "legend": {
         "tracegroupgap": 0
        },
        "template": {
         "data": {
          "bar": [
           {
            "error_x": {
             "color": "#2a3f5f"
            },
            "error_y": {
             "color": "#2a3f5f"
            },
            "marker": {
             "line": {
              "color": "#E5ECF6",
              "width": 0.5
             },
             "pattern": {
              "fillmode": "overlay",
              "size": 10,
              "solidity": 0.2
             }
            },
            "type": "bar"
           }
          ],
          "barpolar": [
           {
            "marker": {
             "line": {
              "color": "#E5ECF6",
              "width": 0.5
             },
             "pattern": {
              "fillmode": "overlay",
              "size": 10,
              "solidity": 0.2
             }
            },
            "type": "barpolar"
           }
          ],
          "carpet": [
           {
            "aaxis": {
             "endlinecolor": "#2a3f5f",
             "gridcolor": "white",
             "linecolor": "white",
             "minorgridcolor": "white",
             "startlinecolor": "#2a3f5f"
            },
            "baxis": {
             "endlinecolor": "#2a3f5f",
             "gridcolor": "white",
             "linecolor": "white",
             "minorgridcolor": "white",
             "startlinecolor": "#2a3f5f"
            },
            "type": "carpet"
           }
          ],
          "choropleth": [
           {
            "colorbar": {
             "outlinewidth": 0,
             "ticks": ""
            },
            "type": "choropleth"
           }
          ],
          "contour": [
           {
            "colorbar": {
             "outlinewidth": 0,
             "ticks": ""
            },
            "colorscale": [
             [
              0,
              "#0d0887"
             ],
             [
              0.1111111111111111,
              "#46039f"
             ],
             [
              0.2222222222222222,
              "#7201a8"
             ],
             [
              0.3333333333333333,
              "#9c179e"
             ],
             [
              0.4444444444444444,
              "#bd3786"
             ],
             [
              0.5555555555555556,
              "#d8576b"
             ],
             [
              0.6666666666666666,
              "#ed7953"
             ],
             [
              0.7777777777777778,
              "#fb9f3a"
             ],
             [
              0.8888888888888888,
              "#fdca26"
             ],
             [
              1,
              "#f0f921"
             ]
            ],
            "type": "contour"
           }
          ],
          "contourcarpet": [
           {
            "colorbar": {
             "outlinewidth": 0,
             "ticks": ""
            },
            "type": "contourcarpet"
           }
          ],
          "heatmap": [
           {
            "colorbar": {
             "outlinewidth": 0,
             "ticks": ""
            },
            "colorscale": [
             [
              0,
              "#0d0887"
             ],
             [
              0.1111111111111111,
              "#46039f"
             ],
             [
              0.2222222222222222,
              "#7201a8"
             ],
             [
              0.3333333333333333,
              "#9c179e"
             ],
             [
              0.4444444444444444,
              "#bd3786"
             ],
             [
              0.5555555555555556,
              "#d8576b"
             ],
             [
              0.6666666666666666,
              "#ed7953"
             ],
             [
              0.7777777777777778,
              "#fb9f3a"
             ],
             [
              0.8888888888888888,
              "#fdca26"
             ],
             [
              1,
              "#f0f921"
             ]
            ],
            "type": "heatmap"
           }
          ],
          "heatmapgl": [
           {
            "colorbar": {
             "outlinewidth": 0,
             "ticks": ""
            },
            "colorscale": [
             [
              0,
              "#0d0887"
             ],
             [
              0.1111111111111111,
              "#46039f"
             ],
             [
              0.2222222222222222,
              "#7201a8"
             ],
             [
              0.3333333333333333,
              "#9c179e"
             ],
             [
              0.4444444444444444,
              "#bd3786"
             ],
             [
              0.5555555555555556,
              "#d8576b"
             ],
             [
              0.6666666666666666,
              "#ed7953"
             ],
             [
              0.7777777777777778,
              "#fb9f3a"
             ],
             [
              0.8888888888888888,
              "#fdca26"
             ],
             [
              1,
              "#f0f921"
             ]
            ],
            "type": "heatmapgl"
           }
          ],
          "histogram": [
           {
            "marker": {
             "pattern": {
              "fillmode": "overlay",
              "size": 10,
              "solidity": 0.2
             }
            },
            "type": "histogram"
           }
          ],
          "histogram2d": [
           {
            "colorbar": {
             "outlinewidth": 0,
             "ticks": ""
            },
            "colorscale": [
             [
              0,
              "#0d0887"
             ],
             [
              0.1111111111111111,
              "#46039f"
             ],
             [
              0.2222222222222222,
              "#7201a8"
             ],
             [
              0.3333333333333333,
              "#9c179e"
             ],
             [
              0.4444444444444444,
              "#bd3786"
             ],
             [
              0.5555555555555556,
              "#d8576b"
             ],
             [
              0.6666666666666666,
              "#ed7953"
             ],
             [
              0.7777777777777778,
              "#fb9f3a"
             ],
             [
              0.8888888888888888,
              "#fdca26"
             ],
             [
              1,
              "#f0f921"
             ]
            ],
            "type": "histogram2d"
           }
          ],
          "histogram2dcontour": [
           {
            "colorbar": {
             "outlinewidth": 0,
             "ticks": ""
            },
            "colorscale": [
             [
              0,
              "#0d0887"
             ],
             [
              0.1111111111111111,
              "#46039f"
             ],
             [
              0.2222222222222222,
              "#7201a8"
             ],
             [
              0.3333333333333333,
              "#9c179e"
             ],
             [
              0.4444444444444444,
              "#bd3786"
             ],
             [
              0.5555555555555556,
              "#d8576b"
             ],
             [
              0.6666666666666666,
              "#ed7953"
             ],
             [
              0.7777777777777778,
              "#fb9f3a"
             ],
             [
              0.8888888888888888,
              "#fdca26"
             ],
             [
              1,
              "#f0f921"
             ]
            ],
            "type": "histogram2dcontour"
           }
          ],
          "mesh3d": [
           {
            "colorbar": {
             "outlinewidth": 0,
             "ticks": ""
            },
            "type": "mesh3d"
           }
          ],
          "parcoords": [
           {
            "line": {
             "colorbar": {
              "outlinewidth": 0,
              "ticks": ""
             }
            },
            "type": "parcoords"
           }
          ],
          "pie": [
           {
            "automargin": true,
            "type": "pie"
           }
          ],
          "scatter": [
           {
            "fillpattern": {
             "fillmode": "overlay",
             "size": 10,
             "solidity": 0.2
            },
            "type": "scatter"
           }
          ],
          "scatter3d": [
           {
            "line": {
             "colorbar": {
              "outlinewidth": 0,
              "ticks": ""
             }
            },
            "marker": {
             "colorbar": {
              "outlinewidth": 0,
              "ticks": ""
             }
            },
            "type": "scatter3d"
           }
          ],
          "scattercarpet": [
           {
            "marker": {
             "colorbar": {
              "outlinewidth": 0,
              "ticks": ""
             }
            },
            "type": "scattercarpet"
           }
          ],
          "scattergeo": [
           {
            "marker": {
             "colorbar": {
              "outlinewidth": 0,
              "ticks": ""
             }
            },
            "type": "scattergeo"
           }
          ],
          "scattergl": [
           {
            "marker": {
             "colorbar": {
              "outlinewidth": 0,
              "ticks": ""
             }
            },
            "type": "scattergl"
           }
          ],
          "scattermapbox": [
           {
            "marker": {
             "colorbar": {
              "outlinewidth": 0,
              "ticks": ""
             }
            },
            "type": "scattermapbox"
           }
          ],
          "scatterpolar": [
           {
            "marker": {
             "colorbar": {
              "outlinewidth": 0,
              "ticks": ""
             }
            },
            "type": "scatterpolar"
           }
          ],
          "scatterpolargl": [
           {
            "marker": {
             "colorbar": {
              "outlinewidth": 0,
              "ticks": ""
             }
            },
            "type": "scatterpolargl"
           }
          ],
          "scatterternary": [
           {
            "marker": {
             "colorbar": {
              "outlinewidth": 0,
              "ticks": ""
             }
            },
            "type": "scatterternary"
           }
          ],
          "surface": [
           {
            "colorbar": {
             "outlinewidth": 0,
             "ticks": ""
            },
            "colorscale": [
             [
              0,
              "#0d0887"
             ],
             [
              0.1111111111111111,
              "#46039f"
             ],
             [
              0.2222222222222222,
              "#7201a8"
             ],
             [
              0.3333333333333333,
              "#9c179e"
             ],
             [
              0.4444444444444444,
              "#bd3786"
             ],
             [
              0.5555555555555556,
              "#d8576b"
             ],
             [
              0.6666666666666666,
              "#ed7953"
             ],
             [
              0.7777777777777778,
              "#fb9f3a"
             ],
             [
              0.8888888888888888,
              "#fdca26"
             ],
             [
              1,
              "#f0f921"
             ]
            ],
            "type": "surface"
           }
          ],
          "table": [
           {
            "cells": {
             "fill": {
              "color": "#EBF0F8"
             },
             "line": {
              "color": "white"
             }
            },
            "header": {
             "fill": {
              "color": "#C8D4E3"
             },
             "line": {
              "color": "white"
             }
            },
            "type": "table"
           }
          ]
         },
         "layout": {
          "annotationdefaults": {
           "arrowcolor": "#2a3f5f",
           "arrowhead": 0,
           "arrowwidth": 1
          },
          "autotypenumbers": "strict",
          "coloraxis": {
           "colorbar": {
            "outlinewidth": 0,
            "ticks": ""
           }
          },
          "colorscale": {
           "diverging": [
            [
             0,
             "#8e0152"
            ],
            [
             0.1,
             "#c51b7d"
            ],
            [
             0.2,
             "#de77ae"
            ],
            [
             0.3,
             "#f1b6da"
            ],
            [
             0.4,
             "#fde0ef"
            ],
            [
             0.5,
             "#f7f7f7"
            ],
            [
             0.6,
             "#e6f5d0"
            ],
            [
             0.7,
             "#b8e186"
            ],
            [
             0.8,
             "#7fbc41"
            ],
            [
             0.9,
             "#4d9221"
            ],
            [
             1,
             "#276419"
            ]
           ],
           "sequential": [
            [
             0,
             "#0d0887"
            ],
            [
             0.1111111111111111,
             "#46039f"
            ],
            [
             0.2222222222222222,
             "#7201a8"
            ],
            [
             0.3333333333333333,
             "#9c179e"
            ],
            [
             0.4444444444444444,
             "#bd3786"
            ],
            [
             0.5555555555555556,
             "#d8576b"
            ],
            [
             0.6666666666666666,
             "#ed7953"
            ],
            [
             0.7777777777777778,
             "#fb9f3a"
            ],
            [
             0.8888888888888888,
             "#fdca26"
            ],
            [
             1,
             "#f0f921"
            ]
           ],
           "sequentialminus": [
            [
             0,
             "#0d0887"
            ],
            [
             0.1111111111111111,
             "#46039f"
            ],
            [
             0.2222222222222222,
             "#7201a8"
            ],
            [
             0.3333333333333333,
             "#9c179e"
            ],
            [
             0.4444444444444444,
             "#bd3786"
            ],
            [
             0.5555555555555556,
             "#d8576b"
            ],
            [
             0.6666666666666666,
             "#ed7953"
            ],
            [
             0.7777777777777778,
             "#fb9f3a"
            ],
            [
             0.8888888888888888,
             "#fdca26"
            ],
            [
             1,
             "#f0f921"
            ]
           ]
          },
          "colorway": [
           "#636efa",
           "#EF553B",
           "#00cc96",
           "#ab63fa",
           "#FFA15A",
           "#19d3f3",
           "#FF6692",
           "#B6E880",
           "#FF97FF",
           "#FECB52"
          ],
          "font": {
           "color": "#2a3f5f"
          },
          "geo": {
           "bgcolor": "white",
           "lakecolor": "white",
           "landcolor": "#E5ECF6",
           "showlakes": true,
           "showland": true,
           "subunitcolor": "white"
          },
          "hoverlabel": {
           "align": "left"
          },
          "hovermode": "closest",
          "mapbox": {
           "style": "light"
          },
          "paper_bgcolor": "white",
          "plot_bgcolor": "#E5ECF6",
          "polar": {
           "angularaxis": {
            "gridcolor": "white",
            "linecolor": "white",
            "ticks": ""
           },
           "bgcolor": "#E5ECF6",
           "radialaxis": {
            "gridcolor": "white",
            "linecolor": "white",
            "ticks": ""
           }
          },
          "scene": {
           "xaxis": {
            "backgroundcolor": "#E5ECF6",
            "gridcolor": "white",
            "gridwidth": 2,
            "linecolor": "white",
            "showbackground": true,
            "ticks": "",
            "zerolinecolor": "white"
           },
           "yaxis": {
            "backgroundcolor": "#E5ECF6",
            "gridcolor": "white",
            "gridwidth": 2,
            "linecolor": "white",
            "showbackground": true,
            "ticks": "",
            "zerolinecolor": "white"
           },
           "zaxis": {
            "backgroundcolor": "#E5ECF6",
            "gridcolor": "white",
            "gridwidth": 2,
            "linecolor": "white",
            "showbackground": true,
            "ticks": "",
            "zerolinecolor": "white"
           }
          },
          "shapedefaults": {
           "line": {
            "color": "#2a3f5f"
           }
          },
          "ternary": {
           "aaxis": {
            "gridcolor": "white",
            "linecolor": "white",
            "ticks": ""
           },
           "baxis": {
            "gridcolor": "white",
            "linecolor": "white",
            "ticks": ""
           },
           "bgcolor": "#E5ECF6",
           "caxis": {
            "gridcolor": "white",
            "linecolor": "white",
            "ticks": ""
           }
          },
          "title": {
           "x": 0.05
          },
          "xaxis": {
           "automargin": true,
           "gridcolor": "white",
           "linecolor": "white",
           "ticks": "",
           "title": {
            "standoff": 15
           },
           "zerolinecolor": "white",
           "zerolinewidth": 2
          },
          "yaxis": {
           "automargin": true,
           "gridcolor": "white",
           "linecolor": "white",
           "ticks": "",
           "title": {
            "standoff": 15
           },
           "zerolinecolor": "white",
           "zerolinewidth": 2
          }
         }
        },
        "title": {
         "text": "Top 10 Produtos"
        },
        "xaxis": {
         "anchor": "y",
         "domain": [
          0,
          1
         ],
         "title": {
          "text": "Valor_Total"
         }
        },
        "yaxis": {
         "anchor": "x",
         "categoryorder": "total ascending",
         "domain": [
          0,
          1
         ],
         "title": {
          "text": "Tipo_Produto"
         }
        }
       }
      }
     },
     "metadata": {},
     "output_type": "display_data"
    },
    {
     "data": {
      "application/vnd.plotly.v1+json": {
       "config": {
        "plotlyServerURL": "https://plot.ly"
       },
       "data": [
        {
         "domain": {
          "x": [
           0,
           1
          ],
          "y": [
           0,
           1
          ]
         },
         "hovertemplate": "Regiao=%{label}<br>Valor_Total=%{value}<extra></extra>",
         "labels": [
          "SUDESTE",
          "SUL"
         ],
         "legendgroup": "",
         "name": "",
         "showlegend": true,
         "type": "pie",
         "values": [
          56335565.2,
          50182654.160000004
         ]
        }
       ],
       "layout": {
        "legend": {
         "tracegroupgap": 0
        },
        "template": {
         "data": {
          "bar": [
           {
            "error_x": {
             "color": "#2a3f5f"
            },
            "error_y": {
             "color": "#2a3f5f"
            },
            "marker": {
             "line": {
              "color": "#E5ECF6",
              "width": 0.5
             },
             "pattern": {
              "fillmode": "overlay",
              "size": 10,
              "solidity": 0.2
             }
            },
            "type": "bar"
           }
          ],
          "barpolar": [
           {
            "marker": {
             "line": {
              "color": "#E5ECF6",
              "width": 0.5
             },
             "pattern": {
              "fillmode": "overlay",
              "size": 10,
              "solidity": 0.2
             }
            },
            "type": "barpolar"
           }
          ],
          "carpet": [
           {
            "aaxis": {
             "endlinecolor": "#2a3f5f",
             "gridcolor": "white",
             "linecolor": "white",
             "minorgridcolor": "white",
             "startlinecolor": "#2a3f5f"
            },
            "baxis": {
             "endlinecolor": "#2a3f5f",
             "gridcolor": "white",
             "linecolor": "white",
             "minorgridcolor": "white",
             "startlinecolor": "#2a3f5f"
            },
            "type": "carpet"
           }
          ],
          "choropleth": [
           {
            "colorbar": {
             "outlinewidth": 0,
             "ticks": ""
            },
            "type": "choropleth"
           }
          ],
          "contour": [
           {
            "colorbar": {
             "outlinewidth": 0,
             "ticks": ""
            },
            "colorscale": [
             [
              0,
              "#0d0887"
             ],
             [
              0.1111111111111111,
              "#46039f"
             ],
             [
              0.2222222222222222,
              "#7201a8"
             ],
             [
              0.3333333333333333,
              "#9c179e"
             ],
             [
              0.4444444444444444,
              "#bd3786"
             ],
             [
              0.5555555555555556,
              "#d8576b"
             ],
             [
              0.6666666666666666,
              "#ed7953"
             ],
             [
              0.7777777777777778,
              "#fb9f3a"
             ],
             [
              0.8888888888888888,
              "#fdca26"
             ],
             [
              1,
              "#f0f921"
             ]
            ],
            "type": "contour"
           }
          ],
          "contourcarpet": [
           {
            "colorbar": {
             "outlinewidth": 0,
             "ticks": ""
            },
            "type": "contourcarpet"
           }
          ],
          "heatmap": [
           {
            "colorbar": {
             "outlinewidth": 0,
             "ticks": ""
            },
            "colorscale": [
             [
              0,
              "#0d0887"
             ],
             [
              0.1111111111111111,
              "#46039f"
             ],
             [
              0.2222222222222222,
              "#7201a8"
             ],
             [
              0.3333333333333333,
              "#9c179e"
             ],
             [
              0.4444444444444444,
              "#bd3786"
             ],
             [
              0.5555555555555556,
              "#d8576b"
             ],
             [
              0.6666666666666666,
              "#ed7953"
             ],
             [
              0.7777777777777778,
              "#fb9f3a"
             ],
             [
              0.8888888888888888,
              "#fdca26"
             ],
             [
              1,
              "#f0f921"
             ]
            ],
            "type": "heatmap"
           }
          ],
          "heatmapgl": [
           {
            "colorbar": {
             "outlinewidth": 0,
             "ticks": ""
            },
            "colorscale": [
             [
              0,
              "#0d0887"
             ],
             [
              0.1111111111111111,
              "#46039f"
             ],
             [
              0.2222222222222222,
              "#7201a8"
             ],
             [
              0.3333333333333333,
              "#9c179e"
             ],
             [
              0.4444444444444444,
              "#bd3786"
             ],
             [
              0.5555555555555556,
              "#d8576b"
             ],
             [
              0.6666666666666666,
              "#ed7953"
             ],
             [
              0.7777777777777778,
              "#fb9f3a"
             ],
             [
              0.8888888888888888,
              "#fdca26"
             ],
             [
              1,
              "#f0f921"
             ]
            ],
            "type": "heatmapgl"
           }
          ],
          "histogram": [
           {
            "marker": {
             "pattern": {
              "fillmode": "overlay",
              "size": 10,
              "solidity": 0.2
             }
            },
            "type": "histogram"
           }
          ],
          "histogram2d": [
           {
            "colorbar": {
             "outlinewidth": 0,
             "ticks": ""
            },
            "colorscale": [
             [
              0,
              "#0d0887"
             ],
             [
              0.1111111111111111,
              "#46039f"
             ],
             [
              0.2222222222222222,
              "#7201a8"
             ],
             [
              0.3333333333333333,
              "#9c179e"
             ],
             [
              0.4444444444444444,
              "#bd3786"
             ],
             [
              0.5555555555555556,
              "#d8576b"
             ],
             [
              0.6666666666666666,
              "#ed7953"
             ],
             [
              0.7777777777777778,
              "#fb9f3a"
             ],
             [
              0.8888888888888888,
              "#fdca26"
             ],
             [
              1,
              "#f0f921"
             ]
            ],
            "type": "histogram2d"
           }
          ],
          "histogram2dcontour": [
           {
            "colorbar": {
             "outlinewidth": 0,
             "ticks": ""
            },
            "colorscale": [
             [
              0,
              "#0d0887"
             ],
             [
              0.1111111111111111,
              "#46039f"
             ],
             [
              0.2222222222222222,
              "#7201a8"
             ],
             [
              0.3333333333333333,
              "#9c179e"
             ],
             [
              0.4444444444444444,
              "#bd3786"
             ],
             [
              0.5555555555555556,
              "#d8576b"
             ],
             [
              0.6666666666666666,
              "#ed7953"
             ],
             [
              0.7777777777777778,
              "#fb9f3a"
             ],
             [
              0.8888888888888888,
              "#fdca26"
             ],
             [
              1,
              "#f0f921"
             ]
            ],
            "type": "histogram2dcontour"
           }
          ],
          "mesh3d": [
           {
            "colorbar": {
             "outlinewidth": 0,
             "ticks": ""
            },
            "type": "mesh3d"
           }
          ],
          "parcoords": [
           {
            "line": {
             "colorbar": {
              "outlinewidth": 0,
              "ticks": ""
             }
            },
            "type": "parcoords"
           }
          ],
          "pie": [
           {
            "automargin": true,
            "type": "pie"
           }
          ],
          "scatter": [
           {
            "fillpattern": {
             "fillmode": "overlay",
             "size": 10,
             "solidity": 0.2
            },
            "type": "scatter"
           }
          ],
          "scatter3d": [
           {
            "line": {
             "colorbar": {
              "outlinewidth": 0,
              "ticks": ""
             }
            },
            "marker": {
             "colorbar": {
              "outlinewidth": 0,
              "ticks": ""
             }
            },
            "type": "scatter3d"
           }
          ],
          "scattercarpet": [
           {
            "marker": {
             "colorbar": {
              "outlinewidth": 0,
              "ticks": ""
             }
            },
            "type": "scattercarpet"
           }
          ],
          "scattergeo": [
           {
            "marker": {
             "colorbar": {
              "outlinewidth": 0,
              "ticks": ""
             }
            },
            "type": "scattergeo"
           }
          ],
          "scattergl": [
           {
            "marker": {
             "colorbar": {
              "outlinewidth": 0,
              "ticks": ""
             }
            },
            "type": "scattergl"
           }
          ],
          "scattermapbox": [
           {
            "marker": {
             "colorbar": {
              "outlinewidth": 0,
              "ticks": ""
             }
            },
            "type": "scattermapbox"
           }
          ],
          "scatterpolar": [
           {
            "marker": {
             "colorbar": {
              "outlinewidth": 0,
              "ticks": ""
             }
            },
            "type": "scatterpolar"
           }
          ],
          "scatterpolargl": [
           {
            "marker": {
             "colorbar": {
              "outlinewidth": 0,
              "ticks": ""
             }
            },
            "type": "scatterpolargl"
           }
          ],
          "scatterternary": [
           {
            "marker": {
             "colorbar": {
              "outlinewidth": 0,
              "ticks": ""
             }
            },
            "type": "scatterternary"
           }
          ],
          "surface": [
           {
            "colorbar": {
             "outlinewidth": 0,
             "ticks": ""
            },
            "colorscale": [
             [
              0,
              "#0d0887"
             ],
             [
              0.1111111111111111,
              "#46039f"
             ],
             [
              0.2222222222222222,
              "#7201a8"
             ],
             [
              0.3333333333333333,
              "#9c179e"
             ],
             [
              0.4444444444444444,
              "#bd3786"
             ],
             [
              0.5555555555555556,
              "#d8576b"
             ],
             [
              0.6666666666666666,
              "#ed7953"
             ],
             [
              0.7777777777777778,
              "#fb9f3a"
             ],
             [
              0.8888888888888888,
              "#fdca26"
             ],
             [
              1,
              "#f0f921"
             ]
            ],
            "type": "surface"
           }
          ],
          "table": [
           {
            "cells": {
             "fill": {
              "color": "#EBF0F8"
             },
             "line": {
              "color": "white"
             }
            },
            "header": {
             "fill": {
              "color": "#C8D4E3"
             },
             "line": {
              "color": "white"
             }
            },
            "type": "table"
           }
          ]
         },
         "layout": {
          "annotationdefaults": {
           "arrowcolor": "#2a3f5f",
           "arrowhead": 0,
           "arrowwidth": 1
          },
          "autotypenumbers": "strict",
          "coloraxis": {
           "colorbar": {
            "outlinewidth": 0,
            "ticks": ""
           }
          },
          "colorscale": {
           "diverging": [
            [
             0,
             "#8e0152"
            ],
            [
             0.1,
             "#c51b7d"
            ],
            [
             0.2,
             "#de77ae"
            ],
            [
             0.3,
             "#f1b6da"
            ],
            [
             0.4,
             "#fde0ef"
            ],
            [
             0.5,
             "#f7f7f7"
            ],
            [
             0.6,
             "#e6f5d0"
            ],
            [
             0.7,
             "#b8e186"
            ],
            [
             0.8,
             "#7fbc41"
            ],
            [
             0.9,
             "#4d9221"
            ],
            [
             1,
             "#276419"
            ]
           ],
           "sequential": [
            [
             0,
             "#0d0887"
            ],
            [
             0.1111111111111111,
             "#46039f"
            ],
            [
             0.2222222222222222,
             "#7201a8"
            ],
            [
             0.3333333333333333,
             "#9c179e"
            ],
            [
             0.4444444444444444,
             "#bd3786"
            ],
            [
             0.5555555555555556,
             "#d8576b"
            ],
            [
             0.6666666666666666,
             "#ed7953"
            ],
            [
             0.7777777777777778,
             "#fb9f3a"
            ],
            [
             0.8888888888888888,
             "#fdca26"
            ],
            [
             1,
             "#f0f921"
            ]
           ],
           "sequentialminus": [
            [
             0,
             "#0d0887"
            ],
            [
             0.1111111111111111,
             "#46039f"
            ],
            [
             0.2222222222222222,
             "#7201a8"
            ],
            [
             0.3333333333333333,
             "#9c179e"
            ],
            [
             0.4444444444444444,
             "#bd3786"
            ],
            [
             0.5555555555555556,
             "#d8576b"
            ],
            [
             0.6666666666666666,
             "#ed7953"
            ],
            [
             0.7777777777777778,
             "#fb9f3a"
            ],
            [
             0.8888888888888888,
             "#fdca26"
            ],
            [
             1,
             "#f0f921"
            ]
           ]
          },
          "colorway": [
           "#636efa",
           "#EF553B",
           "#00cc96",
           "#ab63fa",
           "#FFA15A",
           "#19d3f3",
           "#FF6692",
           "#B6E880",
           "#FF97FF",
           "#FECB52"
          ],
          "font": {
           "color": "#2a3f5f"
          },
          "geo": {
           "bgcolor": "white",
           "lakecolor": "white",
           "landcolor": "#E5ECF6",
           "showlakes": true,
           "showland": true,
           "subunitcolor": "white"
          },
          "hoverlabel": {
           "align": "left"
          },
          "hovermode": "closest",
          "mapbox": {
           "style": "light"
          },
          "paper_bgcolor": "white",
          "plot_bgcolor": "#E5ECF6",
          "polar": {
           "angularaxis": {
            "gridcolor": "white",
            "linecolor": "white",
            "ticks": ""
           },
           "bgcolor": "#E5ECF6",
           "radialaxis": {
            "gridcolor": "white",
            "linecolor": "white",
            "ticks": ""
           }
          },
          "scene": {
           "xaxis": {
            "backgroundcolor": "#E5ECF6",
            "gridcolor": "white",
            "gridwidth": 2,
            "linecolor": "white",
            "showbackground": true,
            "ticks": "",
            "zerolinecolor": "white"
           },
           "yaxis": {
            "backgroundcolor": "#E5ECF6",
            "gridcolor": "white",
            "gridwidth": 2,
            "linecolor": "white",
            "showbackground": true,
            "ticks": "",
            "zerolinecolor": "white"
           },
           "zaxis": {
            "backgroundcolor": "#E5ECF6",
            "gridcolor": "white",
            "gridwidth": 2,
            "linecolor": "white",
            "showbackground": true,
            "ticks": "",
            "zerolinecolor": "white"
           }
          },
          "shapedefaults": {
           "line": {
            "color": "#2a3f5f"
           }
          },
          "ternary": {
           "aaxis": {
            "gridcolor": "white",
            "linecolor": "white",
            "ticks": ""
           },
           "baxis": {
            "gridcolor": "white",
            "linecolor": "white",
            "ticks": ""
           },
           "bgcolor": "#E5ECF6",
           "caxis": {
            "gridcolor": "white",
            "linecolor": "white",
            "ticks": ""
           }
          },
          "title": {
           "x": 0.05
          },
          "xaxis": {
           "automargin": true,
           "gridcolor": "white",
           "linecolor": "white",
           "ticks": "",
           "title": {
            "standoff": 15
           },
           "zerolinecolor": "white",
           "zerolinewidth": 2
          },
          "yaxis": {
           "automargin": true,
           "gridcolor": "white",
           "linecolor": "white",
           "ticks": "",
           "title": {
            "standoff": 15
           },
           "zerolinecolor": "white",
           "zerolinewidth": 2
          }
         }
        },
        "title": {
         "text": "Participação por Região"
        }
       }
      }
     },
     "metadata": {},
     "output_type": "display_data"
    }
   ],
   "source": [
    "# Top Produtos e Regiões\n",
    "top_prod = sell_in.groupby('Tipo_Produto')['Valor_Total'].sum().nlargest(10).reset_index()\n",
    "fig = px.bar(top_prod, x='Valor_Total', y='Tipo_Produto', orientation='h', title='Top 10 Produtos')\n",
    "fig.update_layout(yaxis={'categoryorder':'total ascending'})\n",
    "fig.show()\n",
    "\n",
    "by_region = sell_in.groupby('Regiao')['Valor_Total'].sum().reset_index()\n",
    "fig2 = px.pie(by_region, names='Regiao', values='Valor_Total', title='Participação por Região')\n",
    "fig2.show()"
   ]
  },
  {
   "cell_type": "markdown",
   "id": "878e8f22",
   "metadata": {},
   "source": [
    "### Métricas Avançadas: Ticket Médio, Sell-Through Rate e Crescimento Mensal"
   ]
  },
  {
   "cell_type": "code",
   "execution_count": 20,
   "id": "9a7a6eee",
   "metadata": {},
   "outputs": [
    {
     "data": {
      "text/markdown": [
       "**Visão Mensal das Métricas Avançadas**"
      ],
      "text/plain": [
       "<IPython.core.display.Markdown object>"
      ]
     },
     "metadata": {},
     "output_type": "display_data"
    },
    {
     "data": {
      "text/html": [
       "<style type=\"text/css\">\n",
       "</style>\n",
       "<table id=\"T_7b899\">\n",
       "  <thead>\n",
       "    <tr>\n",
       "      <th class=\"blank level0\" >&nbsp;</th>\n",
       "      <th id=\"T_7b899_level0_col0\" class=\"col_heading level0 col0\" >Ano_Mes</th>\n",
       "      <th id=\"T_7b899_level0_col1\" class=\"col_heading level0 col1\" >SellIn</th>\n",
       "      <th id=\"T_7b899_level0_col2\" class=\"col_heading level0 col2\" >SellOut</th>\n",
       "      <th id=\"T_7b899_level0_col3\" class=\"col_heading level0 col3\" >Unidades_SellThrough</th>\n",
       "      <th id=\"T_7b899_level0_col4\" class=\"col_heading level0 col4\" >SellThroughRate</th>\n",
       "      <th id=\"T_7b899_level0_col5\" class=\"col_heading level0 col5\" >TicketMedio</th>\n",
       "      <th id=\"T_7b899_level0_col6\" class=\"col_heading level0 col6\" >CrescimentoSellIn</th>\n",
       "    </tr>\n",
       "  </thead>\n",
       "  <tbody>\n",
       "    <tr>\n",
       "      <th id=\"T_7b899_level0_row0\" class=\"row_heading level0 row0\" >0</th>\n",
       "      <td id=\"T_7b899_row0_col0\" class=\"data row0 col0\" >2023-01</td>\n",
       "      <td id=\"T_7b899_row0_col1\" class=\"data row0 col1\" >R$ 1,915,287</td>\n",
       "      <td id=\"T_7b899_row0_col2\" class=\"data row0 col2\" >R$ 899,398</td>\n",
       "      <td id=\"T_7b899_row0_col3\" class=\"data row0 col3\" >219804</td>\n",
       "      <td id=\"T_7b899_row0_col4\" class=\"data row0 col4\" >46.96%</td>\n",
       "      <td id=\"T_7b899_row0_col5\" class=\"data row0 col5\" >R$ 4.09</td>\n",
       "      <td id=\"T_7b899_row0_col6\" class=\"data row0 col6\" >nan%</td>\n",
       "    </tr>\n",
       "    <tr>\n",
       "      <th id=\"T_7b899_level0_row1\" class=\"row_heading level0 row1\" >1</th>\n",
       "      <td id=\"T_7b899_row1_col0\" class=\"data row1 col0\" >2023-02</td>\n",
       "      <td id=\"T_7b899_row1_col1\" class=\"data row1 col1\" >R$ 3,018,623</td>\n",
       "      <td id=\"T_7b899_row1_col2\" class=\"data row1 col2\" >R$ 1,489,359</td>\n",
       "      <td id=\"T_7b899_row1_col3\" class=\"data row1 col3\" >346704</td>\n",
       "      <td id=\"T_7b899_row1_col4\" class=\"data row1 col4\" >49.34%</td>\n",
       "      <td id=\"T_7b899_row1_col5\" class=\"data row1 col5\" >R$ 4.30</td>\n",
       "      <td id=\"T_7b899_row1_col6\" class=\"data row1 col6\" >57.61%</td>\n",
       "    </tr>\n",
       "    <tr>\n",
       "      <th id=\"T_7b899_level0_row2\" class=\"row_heading level0 row2\" >2</th>\n",
       "      <td id=\"T_7b899_row2_col0\" class=\"data row2 col0\" >2023-03</td>\n",
       "      <td id=\"T_7b899_row2_col1\" class=\"data row2 col1\" >R$ 3,539,933</td>\n",
       "      <td id=\"T_7b899_row2_col2\" class=\"data row2 col2\" >R$ 1,143,771</td>\n",
       "      <td id=\"T_7b899_row2_col3\" class=\"data row2 col3\" >247680</td>\n",
       "      <td id=\"T_7b899_row2_col4\" class=\"data row2 col4\" >32.31%</td>\n",
       "      <td id=\"T_7b899_row2_col5\" class=\"data row2 col5\" >R$ 4.62</td>\n",
       "      <td id=\"T_7b899_row2_col6\" class=\"data row2 col6\" >17.27%</td>\n",
       "    </tr>\n",
       "    <tr>\n",
       "      <th id=\"T_7b899_level0_row3\" class=\"row_heading level0 row3\" >3</th>\n",
       "      <td id=\"T_7b899_row3_col0\" class=\"data row3 col0\" >2023-04</td>\n",
       "      <td id=\"T_7b899_row3_col1\" class=\"data row3 col1\" >R$ 3,878,737</td>\n",
       "      <td id=\"T_7b899_row3_col2\" class=\"data row3 col2\" >R$ 1,532,981</td>\n",
       "      <td id=\"T_7b899_row3_col3\" class=\"data row3 col3\" >349572</td>\n",
       "      <td id=\"T_7b899_row3_col4\" class=\"data row3 col4\" >39.52%</td>\n",
       "      <td id=\"T_7b899_row3_col5\" class=\"data row3 col5\" >R$ 4.39</td>\n",
       "      <td id=\"T_7b899_row3_col6\" class=\"data row3 col6\" >9.57%</td>\n",
       "    </tr>\n",
       "    <tr>\n",
       "      <th id=\"T_7b899_level0_row4\" class=\"row_heading level0 row4\" >4</th>\n",
       "      <td id=\"T_7b899_row4_col0\" class=\"data row4 col0\" >2023-05</td>\n",
       "      <td id=\"T_7b899_row4_col1\" class=\"data row4 col1\" >R$ 4,858,471</td>\n",
       "      <td id=\"T_7b899_row4_col2\" class=\"data row4 col2\" >R$ 1,214,656</td>\n",
       "      <td id=\"T_7b899_row4_col3\" class=\"data row4 col3\" >282948</td>\n",
       "      <td id=\"T_7b899_row4_col4\" class=\"data row4 col4\" >25.00%</td>\n",
       "      <td id=\"T_7b899_row4_col5\" class=\"data row4 col5\" >R$ 4.29</td>\n",
       "      <td id=\"T_7b899_row4_col6\" class=\"data row4 col6\" >25.26%</td>\n",
       "    </tr>\n",
       "    <tr>\n",
       "      <th id=\"T_7b899_level0_row5\" class=\"row_heading level0 row5\" >5</th>\n",
       "      <td id=\"T_7b899_row5_col0\" class=\"data row5 col0\" >2023-06</td>\n",
       "      <td id=\"T_7b899_row5_col1\" class=\"data row5 col1\" >R$ 4,547,449</td>\n",
       "      <td id=\"T_7b899_row5_col2\" class=\"data row5 col2\" >R$ 1,124,491</td>\n",
       "      <td id=\"T_7b899_row5_col3\" class=\"data row5 col3\" >266730</td>\n",
       "      <td id=\"T_7b899_row5_col4\" class=\"data row5 col4\" >24.73%</td>\n",
       "      <td id=\"T_7b899_row5_col5\" class=\"data row5 col5\" >R$ 4.22</td>\n",
       "      <td id=\"T_7b899_row5_col6\" class=\"data row5 col6\" >-6.40%</td>\n",
       "    </tr>\n",
       "    <tr>\n",
       "      <th id=\"T_7b899_level0_row6\" class=\"row_heading level0 row6\" >6</th>\n",
       "      <td id=\"T_7b899_row6_col0\" class=\"data row6 col0\" >2023-07</td>\n",
       "      <td id=\"T_7b899_row6_col1\" class=\"data row6 col1\" >R$ 2,496,995</td>\n",
       "      <td id=\"T_7b899_row6_col2\" class=\"data row6 col2\" >R$ 1,240,954</td>\n",
       "      <td id=\"T_7b899_row6_col3\" class=\"data row6 col3\" >274364</td>\n",
       "      <td id=\"T_7b899_row6_col4\" class=\"data row6 col4\" >49.70%</td>\n",
       "      <td id=\"T_7b899_row6_col5\" class=\"data row6 col5\" >R$ 4.52</td>\n",
       "      <td id=\"T_7b899_row6_col6\" class=\"data row6 col6\" >-45.09%</td>\n",
       "    </tr>\n",
       "    <tr>\n",
       "      <th id=\"T_7b899_level0_row7\" class=\"row_heading level0 row7\" >7</th>\n",
       "      <td id=\"T_7b899_row7_col0\" class=\"data row7 col0\" >2023-08</td>\n",
       "      <td id=\"T_7b899_row7_col1\" class=\"data row7 col1\" >R$ 4,492,848</td>\n",
       "      <td id=\"T_7b899_row7_col2\" class=\"data row7 col2\" >R$ 1,032,151</td>\n",
       "      <td id=\"T_7b899_row7_col3\" class=\"data row7 col3\" >297633</td>\n",
       "      <td id=\"T_7b899_row7_col4\" class=\"data row7 col4\" >22.97%</td>\n",
       "      <td id=\"T_7b899_row7_col5\" class=\"data row7 col5\" >R$ 3.47</td>\n",
       "      <td id=\"T_7b899_row7_col6\" class=\"data row7 col6\" >79.93%</td>\n",
       "    </tr>\n",
       "    <tr>\n",
       "      <th id=\"T_7b899_level0_row8\" class=\"row_heading level0 row8\" >8</th>\n",
       "      <td id=\"T_7b899_row8_col0\" class=\"data row8 col0\" >2023-09</td>\n",
       "      <td id=\"T_7b899_row8_col1\" class=\"data row8 col1\" >R$ 6,245,769</td>\n",
       "      <td id=\"T_7b899_row8_col2\" class=\"data row8 col2\" >R$ 1,404,807</td>\n",
       "      <td id=\"T_7b899_row8_col3\" class=\"data row8 col3\" >355602</td>\n",
       "      <td id=\"T_7b899_row8_col4\" class=\"data row8 col4\" >22.49%</td>\n",
       "      <td id=\"T_7b899_row8_col5\" class=\"data row8 col5\" >R$ 3.95</td>\n",
       "      <td id=\"T_7b899_row8_col6\" class=\"data row8 col6\" >39.02%</td>\n",
       "    </tr>\n",
       "    <tr>\n",
       "      <th id=\"T_7b899_level0_row9\" class=\"row_heading level0 row9\" >9</th>\n",
       "      <td id=\"T_7b899_row9_col0\" class=\"data row9 col0\" >2023-10</td>\n",
       "      <td id=\"T_7b899_row9_col1\" class=\"data row9 col1\" >R$ 4,912,862</td>\n",
       "      <td id=\"T_7b899_row9_col2\" class=\"data row9 col2\" >R$ 1,198,266</td>\n",
       "      <td id=\"T_7b899_row9_col3\" class=\"data row9 col3\" >340700</td>\n",
       "      <td id=\"T_7b899_row9_col4\" class=\"data row9 col4\" >24.39%</td>\n",
       "      <td id=\"T_7b899_row9_col5\" class=\"data row9 col5\" >R$ 3.52</td>\n",
       "      <td id=\"T_7b899_row9_col6\" class=\"data row9 col6\" >-21.34%</td>\n",
       "    </tr>\n",
       "    <tr>\n",
       "      <th id=\"T_7b899_level0_row10\" class=\"row_heading level0 row10\" >10</th>\n",
       "      <td id=\"T_7b899_row10_col0\" class=\"data row10 col0\" >2023-11</td>\n",
       "      <td id=\"T_7b899_row10_col1\" class=\"data row10 col1\" >R$ 7,480,873</td>\n",
       "      <td id=\"T_7b899_row10_col2\" class=\"data row10 col2\" >R$ 989,718</td>\n",
       "      <td id=\"T_7b899_row10_col3\" class=\"data row10 col3\" >256128</td>\n",
       "      <td id=\"T_7b899_row10_col4\" class=\"data row10 col4\" >13.23%</td>\n",
       "      <td id=\"T_7b899_row10_col5\" class=\"data row10 col5\" >R$ 3.86</td>\n",
       "      <td id=\"T_7b899_row10_col6\" class=\"data row10 col6\" >52.27%</td>\n",
       "    </tr>\n",
       "    <tr>\n",
       "      <th id=\"T_7b899_level0_row11\" class=\"row_heading level0 row11\" >11</th>\n",
       "      <td id=\"T_7b899_row11_col0\" class=\"data row11 col0\" >2023-12</td>\n",
       "      <td id=\"T_7b899_row11_col1\" class=\"data row11 col1\" >R$ 3,311,673</td>\n",
       "      <td id=\"T_7b899_row11_col2\" class=\"data row11 col2\" >R$ 1,258,641</td>\n",
       "      <td id=\"T_7b899_row11_col3\" class=\"data row11 col3\" >335676</td>\n",
       "      <td id=\"T_7b899_row11_col4\" class=\"data row11 col4\" >38.01%</td>\n",
       "      <td id=\"T_7b899_row11_col5\" class=\"data row11 col5\" >R$ 3.75</td>\n",
       "      <td id=\"T_7b899_row11_col6\" class=\"data row11 col6\" >-55.73%</td>\n",
       "    </tr>\n",
       "    <tr>\n",
       "      <th id=\"T_7b899_level0_row12\" class=\"row_heading level0 row12\" >12</th>\n",
       "      <td id=\"T_7b899_row12_col0\" class=\"data row12 col0\" >2024-01</td>\n",
       "      <td id=\"T_7b899_row12_col1\" class=\"data row12 col1\" >R$ 1,373,389</td>\n",
       "      <td id=\"T_7b899_row12_col2\" class=\"data row12 col2\" >R$ 765,951</td>\n",
       "      <td id=\"T_7b899_row12_col3\" class=\"data row12 col3\" >224520</td>\n",
       "      <td id=\"T_7b899_row12_col4\" class=\"data row12 col4\" >55.77%</td>\n",
       "      <td id=\"T_7b899_row12_col5\" class=\"data row12 col5\" >R$ 3.41</td>\n",
       "      <td id=\"T_7b899_row12_col6\" class=\"data row12 col6\" >-58.53%</td>\n",
       "    </tr>\n",
       "    <tr>\n",
       "      <th id=\"T_7b899_level0_row13\" class=\"row_heading level0 row13\" >13</th>\n",
       "      <td id=\"T_7b899_row13_col0\" class=\"data row13 col0\" >2024-02</td>\n",
       "      <td id=\"T_7b899_row13_col1\" class=\"data row13 col1\" >R$ 3,928,107</td>\n",
       "      <td id=\"T_7b899_row13_col2\" class=\"data row13 col2\" >R$ 1,242,154</td>\n",
       "      <td id=\"T_7b899_row13_col3\" class=\"data row13 col3\" >314636</td>\n",
       "      <td id=\"T_7b899_row13_col4\" class=\"data row13 col4\" >31.62%</td>\n",
       "      <td id=\"T_7b899_row13_col5\" class=\"data row13 col5\" >R$ 3.95</td>\n",
       "      <td id=\"T_7b899_row13_col6\" class=\"data row13 col6\" >186.02%</td>\n",
       "    </tr>\n",
       "    <tr>\n",
       "      <th id=\"T_7b899_level0_row14\" class=\"row_heading level0 row14\" >14</th>\n",
       "      <td id=\"T_7b899_row14_col0\" class=\"data row14 col0\" >2024-03</td>\n",
       "      <td id=\"T_7b899_row14_col1\" class=\"data row14 col1\" >R$ 5,029,536</td>\n",
       "      <td id=\"T_7b899_row14_col2\" class=\"data row14 col2\" >R$ 1,059,911</td>\n",
       "      <td id=\"T_7b899_row14_col3\" class=\"data row14 col3\" >294804</td>\n",
       "      <td id=\"T_7b899_row14_col4\" class=\"data row14 col4\" >21.07%</td>\n",
       "      <td id=\"T_7b899_row14_col5\" class=\"data row14 col5\" >R$ 3.60</td>\n",
       "      <td id=\"T_7b899_row14_col6\" class=\"data row14 col6\" >28.04%</td>\n",
       "    </tr>\n",
       "    <tr>\n",
       "      <th id=\"T_7b899_level0_row15\" class=\"row_heading level0 row15\" >15</th>\n",
       "      <td id=\"T_7b899_row15_col0\" class=\"data row15 col0\" >2024-04</td>\n",
       "      <td id=\"T_7b899_row15_col1\" class=\"data row15 col1\" >R$ 1,319,490</td>\n",
       "      <td id=\"T_7b899_row15_col2\" class=\"data row15 col2\" >R$ 1,432,513</td>\n",
       "      <td id=\"T_7b899_row15_col3\" class=\"data row15 col3\" >450981</td>\n",
       "      <td id=\"T_7b899_row15_col4\" class=\"data row15 col4\" >108.57%</td>\n",
       "      <td id=\"T_7b899_row15_col5\" class=\"data row15 col5\" >R$ 3.18</td>\n",
       "      <td id=\"T_7b899_row15_col6\" class=\"data row15 col6\" >-73.77%</td>\n",
       "    </tr>\n",
       "    <tr>\n",
       "      <th id=\"T_7b899_level0_row16\" class=\"row_heading level0 row16\" >16</th>\n",
       "      <td id=\"T_7b899_row16_col0\" class=\"data row16 col0\" >2024-05</td>\n",
       "      <td id=\"T_7b899_row16_col1\" class=\"data row16 col1\" >R$ 6,261,826</td>\n",
       "      <td id=\"T_7b899_row16_col2\" class=\"data row16 col2\" >R$ 1,183,609</td>\n",
       "      <td id=\"T_7b899_row16_col3\" class=\"data row16 col3\" >289817</td>\n",
       "      <td id=\"T_7b899_row16_col4\" class=\"data row16 col4\" >18.90%</td>\n",
       "      <td id=\"T_7b899_row16_col5\" class=\"data row16 col5\" >R$ 4.08</td>\n",
       "      <td id=\"T_7b899_row16_col6\" class=\"data row16 col6\" >374.56%</td>\n",
       "    </tr>\n",
       "    <tr>\n",
       "      <th id=\"T_7b899_level0_row17\" class=\"row_heading level0 row17\" >17</th>\n",
       "      <td id=\"T_7b899_row17_col0\" class=\"data row17 col0\" >2024-06</td>\n",
       "      <td id=\"T_7b899_row17_col1\" class=\"data row17 col1\" >R$ 7,261,554</td>\n",
       "      <td id=\"T_7b899_row17_col2\" class=\"data row17 col2\" >R$ 1,234,525</td>\n",
       "      <td id=\"T_7b899_row17_col3\" class=\"data row17 col3\" >324313</td>\n",
       "      <td id=\"T_7b899_row17_col4\" class=\"data row17 col4\" >17.00%</td>\n",
       "      <td id=\"T_7b899_row17_col5\" class=\"data row17 col5\" >R$ 3.81</td>\n",
       "      <td id=\"T_7b899_row17_col6\" class=\"data row17 col6\" >15.97%</td>\n",
       "    </tr>\n",
       "    <tr>\n",
       "      <th id=\"T_7b899_level0_row18\" class=\"row_heading level0 row18\" >18</th>\n",
       "      <td id=\"T_7b899_row18_col0\" class=\"data row18 col0\" >2024-07</td>\n",
       "      <td id=\"T_7b899_row18_col1\" class=\"data row18 col1\" >R$ 2,979,205</td>\n",
       "      <td id=\"T_7b899_row18_col2\" class=\"data row18 col2\" >R$ 1,499,972</td>\n",
       "      <td id=\"T_7b899_row18_col3\" class=\"data row18 col3\" >364341</td>\n",
       "      <td id=\"T_7b899_row18_col4\" class=\"data row18 col4\" >50.35%</td>\n",
       "      <td id=\"T_7b899_row18_col5\" class=\"data row18 col5\" >R$ 4.12</td>\n",
       "      <td id=\"T_7b899_row18_col6\" class=\"data row18 col6\" >-58.97%</td>\n",
       "    </tr>\n",
       "    <tr>\n",
       "      <th id=\"T_7b899_level0_row19\" class=\"row_heading level0 row19\" >19</th>\n",
       "      <td id=\"T_7b899_row19_col0\" class=\"data row19 col0\" >2024-08</td>\n",
       "      <td id=\"T_7b899_row19_col1\" class=\"data row19 col1\" >R$ 6,102,641</td>\n",
       "      <td id=\"T_7b899_row19_col2\" class=\"data row19 col2\" >R$ 1,493,645</td>\n",
       "      <td id=\"T_7b899_row19_col3\" class=\"data row19 col3\" >387409</td>\n",
       "      <td id=\"T_7b899_row19_col4\" class=\"data row19 col4\" >24.48%</td>\n",
       "      <td id=\"T_7b899_row19_col5\" class=\"data row19 col5\" >R$ 3.86</td>\n",
       "      <td id=\"T_7b899_row19_col6\" class=\"data row19 col6\" >104.84%</td>\n",
       "    </tr>\n",
       "    <tr>\n",
       "      <th id=\"T_7b899_level0_row20\" class=\"row_heading level0 row20\" >20</th>\n",
       "      <td id=\"T_7b899_row20_col0\" class=\"data row20 col0\" >2024-09</td>\n",
       "      <td id=\"T_7b899_row20_col1\" class=\"data row20 col1\" >R$ 3,745,270</td>\n",
       "      <td id=\"T_7b899_row20_col2\" class=\"data row20 col2\" >R$ 1,546,111</td>\n",
       "      <td id=\"T_7b899_row20_col3\" class=\"data row20 col3\" >373004</td>\n",
       "      <td id=\"T_7b899_row20_col4\" class=\"data row20 col4\" >41.28%</td>\n",
       "      <td id=\"T_7b899_row20_col5\" class=\"data row20 col5\" >R$ 4.15</td>\n",
       "      <td id=\"T_7b899_row20_col6\" class=\"data row20 col6\" >-38.63%</td>\n",
       "    </tr>\n",
       "    <tr>\n",
       "      <th id=\"T_7b899_level0_row21\" class=\"row_heading level0 row21\" >21</th>\n",
       "      <td id=\"T_7b899_row21_col0\" class=\"data row21 col0\" >2024-10</td>\n",
       "      <td id=\"T_7b899_row21_col1\" class=\"data row21 col1\" >R$ 10,228,881</td>\n",
       "      <td id=\"T_7b899_row21_col2\" class=\"data row21 col2\" >R$ 1,497,582</td>\n",
       "      <td id=\"T_7b899_row21_col3\" class=\"data row21 col3\" >381936</td>\n",
       "      <td id=\"T_7b899_row21_col4\" class=\"data row21 col4\" >14.64%</td>\n",
       "      <td id=\"T_7b899_row21_col5\" class=\"data row21 col5\" >R$ 3.92</td>\n",
       "      <td id=\"T_7b899_row21_col6\" class=\"data row21 col6\" >173.11%</td>\n",
       "    </tr>\n",
       "    <tr>\n",
       "      <th id=\"T_7b899_level0_row22\" class=\"row_heading level0 row22\" >22</th>\n",
       "      <td id=\"T_7b899_row22_col0\" class=\"data row22 col0\" >2024-11</td>\n",
       "      <td id=\"T_7b899_row22_col1\" class=\"data row22 col1\" >R$ 4,364,239</td>\n",
       "      <td id=\"T_7b899_row22_col2\" class=\"data row22 col2\" >R$ 1,296,377</td>\n",
       "      <td id=\"T_7b899_row22_col3\" class=\"data row22 col3\" >331158</td>\n",
       "      <td id=\"T_7b899_row22_col4\" class=\"data row22 col4\" >29.70%</td>\n",
       "      <td id=\"T_7b899_row22_col5\" class=\"data row22 col5\" >R$ 3.91</td>\n",
       "      <td id=\"T_7b899_row22_col6\" class=\"data row22 col6\" >-57.33%</td>\n",
       "    </tr>\n",
       "    <tr>\n",
       "      <th id=\"T_7b899_level0_row23\" class=\"row_heading level0 row23\" >23</th>\n",
       "      <td id=\"T_7b899_row23_col0\" class=\"data row23 col0\" >2024-12</td>\n",
       "      <td id=\"T_7b899_row23_col1\" class=\"data row23 col1\" >R$ 3,224,559</td>\n",
       "      <td id=\"T_7b899_row23_col2\" class=\"data row23 col2\" >R$ 1,119,992</td>\n",
       "      <td id=\"T_7b899_row23_col3\" class=\"data row23 col3\" >269437</td>\n",
       "      <td id=\"T_7b899_row23_col4\" class=\"data row23 col4\" >34.73%</td>\n",
       "      <td id=\"T_7b899_row23_col5\" class=\"data row23 col5\" >R$ 4.16</td>\n",
       "      <td id=\"T_7b899_row23_col6\" class=\"data row23 col6\" >-26.11%</td>\n",
       "    </tr>\n",
       "  </tbody>\n",
       "</table>\n"
      ],
      "text/plain": [
       "<pandas.io.formats.style.Styler at 0x2286b3db2c0>"
      ]
     },
     "metadata": {},
     "output_type": "display_data"
    },
    {
     "data": {
      "application/vnd.plotly.v1+json": {
       "config": {
        "plotlyServerURL": "https://plot.ly"
       },
       "data": [
        {
         "hovertemplate": "Ano_Mes=%{x}<br>SellThroughRate=%{y}<extra></extra>",
         "legendgroup": "",
         "line": {
          "color": "#636efa",
          "dash": "solid"
         },
         "marker": {
          "symbol": "circle"
         },
         "mode": "lines",
         "name": "",
         "orientation": "v",
         "showlegend": false,
         "type": "scatter",
         "x": [
          "2023-01",
          "2023-02",
          "2023-03",
          "2023-04",
          "2023-05",
          "2023-06",
          "2023-07",
          "2023-08",
          "2023-09",
          "2023-10",
          "2023-11",
          "2023-12",
          "2024-01",
          "2024-02",
          "2024-03",
          "2024-04",
          "2024-05",
          "2024-06",
          "2024-07",
          "2024-08",
          "2024-09",
          "2024-10",
          "2024-11",
          "2024-12"
         ],
         "xaxis": "x",
         "y": [
          0.4695893959180184,
          0.4933902081712306,
          0.3231053618132107,
          0.39522693940056136,
          0.2500079626972056,
          0.2472794264830726,
          0.49697890739021017,
          0.22973204391241064,
          0.22492134220320276,
          0.2439038116367215,
          0.1322998199562165,
          0.3800619848516865,
          0.557708316251413,
          0.3162219471138451,
          0.21073737634508916,
          1.0856569689145983,
          0.1890198469543442,
          0.1700084282969706,
          0.5034806172073218,
          0.24475381117820288,
          0.41281703832978733,
          0.1464072482075715,
          0.297045419476831,
          0.3473318262704603
         ],
         "yaxis": "y"
        }
       ],
       "layout": {
        "legend": {
         "tracegroupgap": 0
        },
        "template": {
         "data": {
          "bar": [
           {
            "error_x": {
             "color": "#2a3f5f"
            },
            "error_y": {
             "color": "#2a3f5f"
            },
            "marker": {
             "line": {
              "color": "#E5ECF6",
              "width": 0.5
             },
             "pattern": {
              "fillmode": "overlay",
              "size": 10,
              "solidity": 0.2
             }
            },
            "type": "bar"
           }
          ],
          "barpolar": [
           {
            "marker": {
             "line": {
              "color": "#E5ECF6",
              "width": 0.5
             },
             "pattern": {
              "fillmode": "overlay",
              "size": 10,
              "solidity": 0.2
             }
            },
            "type": "barpolar"
           }
          ],
          "carpet": [
           {
            "aaxis": {
             "endlinecolor": "#2a3f5f",
             "gridcolor": "white",
             "linecolor": "white",
             "minorgridcolor": "white",
             "startlinecolor": "#2a3f5f"
            },
            "baxis": {
             "endlinecolor": "#2a3f5f",
             "gridcolor": "white",
             "linecolor": "white",
             "minorgridcolor": "white",
             "startlinecolor": "#2a3f5f"
            },
            "type": "carpet"
           }
          ],
          "choropleth": [
           {
            "colorbar": {
             "outlinewidth": 0,
             "ticks": ""
            },
            "type": "choropleth"
           }
          ],
          "contour": [
           {
            "colorbar": {
             "outlinewidth": 0,
             "ticks": ""
            },
            "colorscale": [
             [
              0,
              "#0d0887"
             ],
             [
              0.1111111111111111,
              "#46039f"
             ],
             [
              0.2222222222222222,
              "#7201a8"
             ],
             [
              0.3333333333333333,
              "#9c179e"
             ],
             [
              0.4444444444444444,
              "#bd3786"
             ],
             [
              0.5555555555555556,
              "#d8576b"
             ],
             [
              0.6666666666666666,
              "#ed7953"
             ],
             [
              0.7777777777777778,
              "#fb9f3a"
             ],
             [
              0.8888888888888888,
              "#fdca26"
             ],
             [
              1,
              "#f0f921"
             ]
            ],
            "type": "contour"
           }
          ],
          "contourcarpet": [
           {
            "colorbar": {
             "outlinewidth": 0,
             "ticks": ""
            },
            "type": "contourcarpet"
           }
          ],
          "heatmap": [
           {
            "colorbar": {
             "outlinewidth": 0,
             "ticks": ""
            },
            "colorscale": [
             [
              0,
              "#0d0887"
             ],
             [
              0.1111111111111111,
              "#46039f"
             ],
             [
              0.2222222222222222,
              "#7201a8"
             ],
             [
              0.3333333333333333,
              "#9c179e"
             ],
             [
              0.4444444444444444,
              "#bd3786"
             ],
             [
              0.5555555555555556,
              "#d8576b"
             ],
             [
              0.6666666666666666,
              "#ed7953"
             ],
             [
              0.7777777777777778,
              "#fb9f3a"
             ],
             [
              0.8888888888888888,
              "#fdca26"
             ],
             [
              1,
              "#f0f921"
             ]
            ],
            "type": "heatmap"
           }
          ],
          "heatmapgl": [
           {
            "colorbar": {
             "outlinewidth": 0,
             "ticks": ""
            },
            "colorscale": [
             [
              0,
              "#0d0887"
             ],
             [
              0.1111111111111111,
              "#46039f"
             ],
             [
              0.2222222222222222,
              "#7201a8"
             ],
             [
              0.3333333333333333,
              "#9c179e"
             ],
             [
              0.4444444444444444,
              "#bd3786"
             ],
             [
              0.5555555555555556,
              "#d8576b"
             ],
             [
              0.6666666666666666,
              "#ed7953"
             ],
             [
              0.7777777777777778,
              "#fb9f3a"
             ],
             [
              0.8888888888888888,
              "#fdca26"
             ],
             [
              1,
              "#f0f921"
             ]
            ],
            "type": "heatmapgl"
           }
          ],
          "histogram": [
           {
            "marker": {
             "pattern": {
              "fillmode": "overlay",
              "size": 10,
              "solidity": 0.2
             }
            },
            "type": "histogram"
           }
          ],
          "histogram2d": [
           {
            "colorbar": {
             "outlinewidth": 0,
             "ticks": ""
            },
            "colorscale": [
             [
              0,
              "#0d0887"
             ],
             [
              0.1111111111111111,
              "#46039f"
             ],
             [
              0.2222222222222222,
              "#7201a8"
             ],
             [
              0.3333333333333333,
              "#9c179e"
             ],
             [
              0.4444444444444444,
              "#bd3786"
             ],
             [
              0.5555555555555556,
              "#d8576b"
             ],
             [
              0.6666666666666666,
              "#ed7953"
             ],
             [
              0.7777777777777778,
              "#fb9f3a"
             ],
             [
              0.8888888888888888,
              "#fdca26"
             ],
             [
              1,
              "#f0f921"
             ]
            ],
            "type": "histogram2d"
           }
          ],
          "histogram2dcontour": [
           {
            "colorbar": {
             "outlinewidth": 0,
             "ticks": ""
            },
            "colorscale": [
             [
              0,
              "#0d0887"
             ],
             [
              0.1111111111111111,
              "#46039f"
             ],
             [
              0.2222222222222222,
              "#7201a8"
             ],
             [
              0.3333333333333333,
              "#9c179e"
             ],
             [
              0.4444444444444444,
              "#bd3786"
             ],
             [
              0.5555555555555556,
              "#d8576b"
             ],
             [
              0.6666666666666666,
              "#ed7953"
             ],
             [
              0.7777777777777778,
              "#fb9f3a"
             ],
             [
              0.8888888888888888,
              "#fdca26"
             ],
             [
              1,
              "#f0f921"
             ]
            ],
            "type": "histogram2dcontour"
           }
          ],
          "mesh3d": [
           {
            "colorbar": {
             "outlinewidth": 0,
             "ticks": ""
            },
            "type": "mesh3d"
           }
          ],
          "parcoords": [
           {
            "line": {
             "colorbar": {
              "outlinewidth": 0,
              "ticks": ""
             }
            },
            "type": "parcoords"
           }
          ],
          "pie": [
           {
            "automargin": true,
            "type": "pie"
           }
          ],
          "scatter": [
           {
            "fillpattern": {
             "fillmode": "overlay",
             "size": 10,
             "solidity": 0.2
            },
            "type": "scatter"
           }
          ],
          "scatter3d": [
           {
            "line": {
             "colorbar": {
              "outlinewidth": 0,
              "ticks": ""
             }
            },
            "marker": {
             "colorbar": {
              "outlinewidth": 0,
              "ticks": ""
             }
            },
            "type": "scatter3d"
           }
          ],
          "scattercarpet": [
           {
            "marker": {
             "colorbar": {
              "outlinewidth": 0,
              "ticks": ""
             }
            },
            "type": "scattercarpet"
           }
          ],
          "scattergeo": [
           {
            "marker": {
             "colorbar": {
              "outlinewidth": 0,
              "ticks": ""
             }
            },
            "type": "scattergeo"
           }
          ],
          "scattergl": [
           {
            "marker": {
             "colorbar": {
              "outlinewidth": 0,
              "ticks": ""
             }
            },
            "type": "scattergl"
           }
          ],
          "scattermapbox": [
           {
            "marker": {
             "colorbar": {
              "outlinewidth": 0,
              "ticks": ""
             }
            },
            "type": "scattermapbox"
           }
          ],
          "scatterpolar": [
           {
            "marker": {
             "colorbar": {
              "outlinewidth": 0,
              "ticks": ""
             }
            },
            "type": "scatterpolar"
           }
          ],
          "scatterpolargl": [
           {
            "marker": {
             "colorbar": {
              "outlinewidth": 0,
              "ticks": ""
             }
            },
            "type": "scatterpolargl"
           }
          ],
          "scatterternary": [
           {
            "marker": {
             "colorbar": {
              "outlinewidth": 0,
              "ticks": ""
             }
            },
            "type": "scatterternary"
           }
          ],
          "surface": [
           {
            "colorbar": {
             "outlinewidth": 0,
             "ticks": ""
            },
            "colorscale": [
             [
              0,
              "#0d0887"
             ],
             [
              0.1111111111111111,
              "#46039f"
             ],
             [
              0.2222222222222222,
              "#7201a8"
             ],
             [
              0.3333333333333333,
              "#9c179e"
             ],
             [
              0.4444444444444444,
              "#bd3786"
             ],
             [
              0.5555555555555556,
              "#d8576b"
             ],
             [
              0.6666666666666666,
              "#ed7953"
             ],
             [
              0.7777777777777778,
              "#fb9f3a"
             ],
             [
              0.8888888888888888,
              "#fdca26"
             ],
             [
              1,
              "#f0f921"
             ]
            ],
            "type": "surface"
           }
          ],
          "table": [
           {
            "cells": {
             "fill": {
              "color": "#EBF0F8"
             },
             "line": {
              "color": "white"
             }
            },
            "header": {
             "fill": {
              "color": "#C8D4E3"
             },
             "line": {
              "color": "white"
             }
            },
            "type": "table"
           }
          ]
         },
         "layout": {
          "annotationdefaults": {
           "arrowcolor": "#2a3f5f",
           "arrowhead": 0,
           "arrowwidth": 1
          },
          "autotypenumbers": "strict",
          "coloraxis": {
           "colorbar": {
            "outlinewidth": 0,
            "ticks": ""
           }
          },
          "colorscale": {
           "diverging": [
            [
             0,
             "#8e0152"
            ],
            [
             0.1,
             "#c51b7d"
            ],
            [
             0.2,
             "#de77ae"
            ],
            [
             0.3,
             "#f1b6da"
            ],
            [
             0.4,
             "#fde0ef"
            ],
            [
             0.5,
             "#f7f7f7"
            ],
            [
             0.6,
             "#e6f5d0"
            ],
            [
             0.7,
             "#b8e186"
            ],
            [
             0.8,
             "#7fbc41"
            ],
            [
             0.9,
             "#4d9221"
            ],
            [
             1,
             "#276419"
            ]
           ],
           "sequential": [
            [
             0,
             "#0d0887"
            ],
            [
             0.1111111111111111,
             "#46039f"
            ],
            [
             0.2222222222222222,
             "#7201a8"
            ],
            [
             0.3333333333333333,
             "#9c179e"
            ],
            [
             0.4444444444444444,
             "#bd3786"
            ],
            [
             0.5555555555555556,
             "#d8576b"
            ],
            [
             0.6666666666666666,
             "#ed7953"
            ],
            [
             0.7777777777777778,
             "#fb9f3a"
            ],
            [
             0.8888888888888888,
             "#fdca26"
            ],
            [
             1,
             "#f0f921"
            ]
           ],
           "sequentialminus": [
            [
             0,
             "#0d0887"
            ],
            [
             0.1111111111111111,
             "#46039f"
            ],
            [
             0.2222222222222222,
             "#7201a8"
            ],
            [
             0.3333333333333333,
             "#9c179e"
            ],
            [
             0.4444444444444444,
             "#bd3786"
            ],
            [
             0.5555555555555556,
             "#d8576b"
            ],
            [
             0.6666666666666666,
             "#ed7953"
            ],
            [
             0.7777777777777778,
             "#fb9f3a"
            ],
            [
             0.8888888888888888,
             "#fdca26"
            ],
            [
             1,
             "#f0f921"
            ]
           ]
          },
          "colorway": [
           "#636efa",
           "#EF553B",
           "#00cc96",
           "#ab63fa",
           "#FFA15A",
           "#19d3f3",
           "#FF6692",
           "#B6E880",
           "#FF97FF",
           "#FECB52"
          ],
          "font": {
           "color": "#2a3f5f"
          },
          "geo": {
           "bgcolor": "white",
           "lakecolor": "white",
           "landcolor": "#E5ECF6",
           "showlakes": true,
           "showland": true,
           "subunitcolor": "white"
          },
          "hoverlabel": {
           "align": "left"
          },
          "hovermode": "closest",
          "mapbox": {
           "style": "light"
          },
          "paper_bgcolor": "white",
          "plot_bgcolor": "#E5ECF6",
          "polar": {
           "angularaxis": {
            "gridcolor": "white",
            "linecolor": "white",
            "ticks": ""
           },
           "bgcolor": "#E5ECF6",
           "radialaxis": {
            "gridcolor": "white",
            "linecolor": "white",
            "ticks": ""
           }
          },
          "scene": {
           "xaxis": {
            "backgroundcolor": "#E5ECF6",
            "gridcolor": "white",
            "gridwidth": 2,
            "linecolor": "white",
            "showbackground": true,
            "ticks": "",
            "zerolinecolor": "white"
           },
           "yaxis": {
            "backgroundcolor": "#E5ECF6",
            "gridcolor": "white",
            "gridwidth": 2,
            "linecolor": "white",
            "showbackground": true,
            "ticks": "",
            "zerolinecolor": "white"
           },
           "zaxis": {
            "backgroundcolor": "#E5ECF6",
            "gridcolor": "white",
            "gridwidth": 2,
            "linecolor": "white",
            "showbackground": true,
            "ticks": "",
            "zerolinecolor": "white"
           }
          },
          "shapedefaults": {
           "line": {
            "color": "#2a3f5f"
           }
          },
          "ternary": {
           "aaxis": {
            "gridcolor": "white",
            "linecolor": "white",
            "ticks": ""
           },
           "baxis": {
            "gridcolor": "white",
            "linecolor": "white",
            "ticks": ""
           },
           "bgcolor": "#E5ECF6",
           "caxis": {
            "gridcolor": "white",
            "linecolor": "white",
            "ticks": ""
           }
          },
          "title": {
           "x": 0.05
          },
          "xaxis": {
           "automargin": true,
           "gridcolor": "white",
           "linecolor": "white",
           "ticks": "",
           "title": {
            "standoff": 15
           },
           "zerolinecolor": "white",
           "zerolinewidth": 2
          },
          "yaxis": {
           "automargin": true,
           "gridcolor": "white",
           "linecolor": "white",
           "ticks": "",
           "title": {
            "standoff": 15
           },
           "zerolinecolor": "white",
           "zerolinewidth": 2
          }
         }
        },
        "title": {
         "text": "Sell-Through Rate Mensal"
        },
        "xaxis": {
         "anchor": "y",
         "domain": [
          0,
          1
         ],
         "tickangle": 45,
         "title": {
          "text": "Ano_Mes"
         }
        },
        "yaxis": {
         "anchor": "x",
         "domain": [
          0,
          1
         ],
         "tickformat": ".0%",
         "title": {
          "text": "SellThroughRate"
         }
        }
       }
      }
     },
     "metadata": {},
     "output_type": "display_data"
    },
    {
     "data": {
      "application/vnd.plotly.v1+json": {
       "config": {
        "plotlyServerURL": "https://plot.ly"
       },
       "data": [
        {
         "hovertemplate": "Ano_Mes=%{x}<br>TicketMedio=%{y}<extra></extra>",
         "legendgroup": "",
         "line": {
          "color": "#636efa",
          "dash": "solid"
         },
         "marker": {
          "symbol": "circle"
         },
         "mode": "lines",
         "name": "",
         "orientation": "v",
         "showlegend": false,
         "type": "scatter",
         "x": [
          "2023-01",
          "2023-02",
          "2023-03",
          "2023-04",
          "2023-05",
          "2023-06",
          "2023-07",
          "2023-08",
          "2023-09",
          "2023-10",
          "2023-11",
          "2023-12",
          "2024-01",
          "2024-02",
          "2024-03",
          "2024-04",
          "2024-05",
          "2024-06",
          "2024-07",
          "2024-08",
          "2024-09",
          "2024-10",
          "2024-11",
          "2024-12"
         ],
         "xaxis": "x",
         "y": [
          4.091820154156749,
          4.29576593477563,
          4.617940373444889,
          4.385309613059541,
          4.292861131849563,
          4.21583869405335,
          4.523020498142942,
          3.467865018418421,
          3.950502782157637,
          3.5170700052008805,
          3.864154310713276,
          3.749570998691119,
          3.411502937991226,
          3.9479072088180307,
          3.595308397235553,
          3.176438222286881,
          4.083988678407305,
          3.806586432975891,
          4.116945672027304,
          3.855471931525933,
          4.145026474013871,
          3.9210294252531313,
          3.9146792019281738,
          4.1567862045426205
         ],
         "yaxis": "y"
        }
       ],
       "layout": {
        "legend": {
         "tracegroupgap": 0
        },
        "template": {
         "data": {
          "bar": [
           {
            "error_x": {
             "color": "#2a3f5f"
            },
            "error_y": {
             "color": "#2a3f5f"
            },
            "marker": {
             "line": {
              "color": "#E5ECF6",
              "width": 0.5
             },
             "pattern": {
              "fillmode": "overlay",
              "size": 10,
              "solidity": 0.2
             }
            },
            "type": "bar"
           }
          ],
          "barpolar": [
           {
            "marker": {
             "line": {
              "color": "#E5ECF6",
              "width": 0.5
             },
             "pattern": {
              "fillmode": "overlay",
              "size": 10,
              "solidity": 0.2
             }
            },
            "type": "barpolar"
           }
          ],
          "carpet": [
           {
            "aaxis": {
             "endlinecolor": "#2a3f5f",
             "gridcolor": "white",
             "linecolor": "white",
             "minorgridcolor": "white",
             "startlinecolor": "#2a3f5f"
            },
            "baxis": {
             "endlinecolor": "#2a3f5f",
             "gridcolor": "white",
             "linecolor": "white",
             "minorgridcolor": "white",
             "startlinecolor": "#2a3f5f"
            },
            "type": "carpet"
           }
          ],
          "choropleth": [
           {
            "colorbar": {
             "outlinewidth": 0,
             "ticks": ""
            },
            "type": "choropleth"
           }
          ],
          "contour": [
           {
            "colorbar": {
             "outlinewidth": 0,
             "ticks": ""
            },
            "colorscale": [
             [
              0,
              "#0d0887"
             ],
             [
              0.1111111111111111,
              "#46039f"
             ],
             [
              0.2222222222222222,
              "#7201a8"
             ],
             [
              0.3333333333333333,
              "#9c179e"
             ],
             [
              0.4444444444444444,
              "#bd3786"
             ],
             [
              0.5555555555555556,
              "#d8576b"
             ],
             [
              0.6666666666666666,
              "#ed7953"
             ],
             [
              0.7777777777777778,
              "#fb9f3a"
             ],
             [
              0.8888888888888888,
              "#fdca26"
             ],
             [
              1,
              "#f0f921"
             ]
            ],
            "type": "contour"
           }
          ],
          "contourcarpet": [
           {
            "colorbar": {
             "outlinewidth": 0,
             "ticks": ""
            },
            "type": "contourcarpet"
           }
          ],
          "heatmap": [
           {
            "colorbar": {
             "outlinewidth": 0,
             "ticks": ""
            },
            "colorscale": [
             [
              0,
              "#0d0887"
             ],
             [
              0.1111111111111111,
              "#46039f"
             ],
             [
              0.2222222222222222,
              "#7201a8"
             ],
             [
              0.3333333333333333,
              "#9c179e"
             ],
             [
              0.4444444444444444,
              "#bd3786"
             ],
             [
              0.5555555555555556,
              "#d8576b"
             ],
             [
              0.6666666666666666,
              "#ed7953"
             ],
             [
              0.7777777777777778,
              "#fb9f3a"
             ],
             [
              0.8888888888888888,
              "#fdca26"
             ],
             [
              1,
              "#f0f921"
             ]
            ],
            "type": "heatmap"
           }
          ],
          "heatmapgl": [
           {
            "colorbar": {
             "outlinewidth": 0,
             "ticks": ""
            },
            "colorscale": [
             [
              0,
              "#0d0887"
             ],
             [
              0.1111111111111111,
              "#46039f"
             ],
             [
              0.2222222222222222,
              "#7201a8"
             ],
             [
              0.3333333333333333,
              "#9c179e"
             ],
             [
              0.4444444444444444,
              "#bd3786"
             ],
             [
              0.5555555555555556,
              "#d8576b"
             ],
             [
              0.6666666666666666,
              "#ed7953"
             ],
             [
              0.7777777777777778,
              "#fb9f3a"
             ],
             [
              0.8888888888888888,
              "#fdca26"
             ],
             [
              1,
              "#f0f921"
             ]
            ],
            "type": "heatmapgl"
           }
          ],
          "histogram": [
           {
            "marker": {
             "pattern": {
              "fillmode": "overlay",
              "size": 10,
              "solidity": 0.2
             }
            },
            "type": "histogram"
           }
          ],
          "histogram2d": [
           {
            "colorbar": {
             "outlinewidth": 0,
             "ticks": ""
            },
            "colorscale": [
             [
              0,
              "#0d0887"
             ],
             [
              0.1111111111111111,
              "#46039f"
             ],
             [
              0.2222222222222222,
              "#7201a8"
             ],
             [
              0.3333333333333333,
              "#9c179e"
             ],
             [
              0.4444444444444444,
              "#bd3786"
             ],
             [
              0.5555555555555556,
              "#d8576b"
             ],
             [
              0.6666666666666666,
              "#ed7953"
             ],
             [
              0.7777777777777778,
              "#fb9f3a"
             ],
             [
              0.8888888888888888,
              "#fdca26"
             ],
             [
              1,
              "#f0f921"
             ]
            ],
            "type": "histogram2d"
           }
          ],
          "histogram2dcontour": [
           {
            "colorbar": {
             "outlinewidth": 0,
             "ticks": ""
            },
            "colorscale": [
             [
              0,
              "#0d0887"
             ],
             [
              0.1111111111111111,
              "#46039f"
             ],
             [
              0.2222222222222222,
              "#7201a8"
             ],
             [
              0.3333333333333333,
              "#9c179e"
             ],
             [
              0.4444444444444444,
              "#bd3786"
             ],
             [
              0.5555555555555556,
              "#d8576b"
             ],
             [
              0.6666666666666666,
              "#ed7953"
             ],
             [
              0.7777777777777778,
              "#fb9f3a"
             ],
             [
              0.8888888888888888,
              "#fdca26"
             ],
             [
              1,
              "#f0f921"
             ]
            ],
            "type": "histogram2dcontour"
           }
          ],
          "mesh3d": [
           {
            "colorbar": {
             "outlinewidth": 0,
             "ticks": ""
            },
            "type": "mesh3d"
           }
          ],
          "parcoords": [
           {
            "line": {
             "colorbar": {
              "outlinewidth": 0,
              "ticks": ""
             }
            },
            "type": "parcoords"
           }
          ],
          "pie": [
           {
            "automargin": true,
            "type": "pie"
           }
          ],
          "scatter": [
           {
            "fillpattern": {
             "fillmode": "overlay",
             "size": 10,
             "solidity": 0.2
            },
            "type": "scatter"
           }
          ],
          "scatter3d": [
           {
            "line": {
             "colorbar": {
              "outlinewidth": 0,
              "ticks": ""
             }
            },
            "marker": {
             "colorbar": {
              "outlinewidth": 0,
              "ticks": ""
             }
            },
            "type": "scatter3d"
           }
          ],
          "scattercarpet": [
           {
            "marker": {
             "colorbar": {
              "outlinewidth": 0,
              "ticks": ""
             }
            },
            "type": "scattercarpet"
           }
          ],
          "scattergeo": [
           {
            "marker": {
             "colorbar": {
              "outlinewidth": 0,
              "ticks": ""
             }
            },
            "type": "scattergeo"
           }
          ],
          "scattergl": [
           {
            "marker": {
             "colorbar": {
              "outlinewidth": 0,
              "ticks": ""
             }
            },
            "type": "scattergl"
           }
          ],
          "scattermapbox": [
           {
            "marker": {
             "colorbar": {
              "outlinewidth": 0,
              "ticks": ""
             }
            },
            "type": "scattermapbox"
           }
          ],
          "scatterpolar": [
           {
            "marker": {
             "colorbar": {
              "outlinewidth": 0,
              "ticks": ""
             }
            },
            "type": "scatterpolar"
           }
          ],
          "scatterpolargl": [
           {
            "marker": {
             "colorbar": {
              "outlinewidth": 0,
              "ticks": ""
             }
            },
            "type": "scatterpolargl"
           }
          ],
          "scatterternary": [
           {
            "marker": {
             "colorbar": {
              "outlinewidth": 0,
              "ticks": ""
             }
            },
            "type": "scatterternary"
           }
          ],
          "surface": [
           {
            "colorbar": {
             "outlinewidth": 0,
             "ticks": ""
            },
            "colorscale": [
             [
              0,
              "#0d0887"
             ],
             [
              0.1111111111111111,
              "#46039f"
             ],
             [
              0.2222222222222222,
              "#7201a8"
             ],
             [
              0.3333333333333333,
              "#9c179e"
             ],
             [
              0.4444444444444444,
              "#bd3786"
             ],
             [
              0.5555555555555556,
              "#d8576b"
             ],
             [
              0.6666666666666666,
              "#ed7953"
             ],
             [
              0.7777777777777778,
              "#fb9f3a"
             ],
             [
              0.8888888888888888,
              "#fdca26"
             ],
             [
              1,
              "#f0f921"
             ]
            ],
            "type": "surface"
           }
          ],
          "table": [
           {
            "cells": {
             "fill": {
              "color": "#EBF0F8"
             },
             "line": {
              "color": "white"
             }
            },
            "header": {
             "fill": {
              "color": "#C8D4E3"
             },
             "line": {
              "color": "white"
             }
            },
            "type": "table"
           }
          ]
         },
         "layout": {
          "annotationdefaults": {
           "arrowcolor": "#2a3f5f",
           "arrowhead": 0,
           "arrowwidth": 1
          },
          "autotypenumbers": "strict",
          "coloraxis": {
           "colorbar": {
            "outlinewidth": 0,
            "ticks": ""
           }
          },
          "colorscale": {
           "diverging": [
            [
             0,
             "#8e0152"
            ],
            [
             0.1,
             "#c51b7d"
            ],
            [
             0.2,
             "#de77ae"
            ],
            [
             0.3,
             "#f1b6da"
            ],
            [
             0.4,
             "#fde0ef"
            ],
            [
             0.5,
             "#f7f7f7"
            ],
            [
             0.6,
             "#e6f5d0"
            ],
            [
             0.7,
             "#b8e186"
            ],
            [
             0.8,
             "#7fbc41"
            ],
            [
             0.9,
             "#4d9221"
            ],
            [
             1,
             "#276419"
            ]
           ],
           "sequential": [
            [
             0,
             "#0d0887"
            ],
            [
             0.1111111111111111,
             "#46039f"
            ],
            [
             0.2222222222222222,
             "#7201a8"
            ],
            [
             0.3333333333333333,
             "#9c179e"
            ],
            [
             0.4444444444444444,
             "#bd3786"
            ],
            [
             0.5555555555555556,
             "#d8576b"
            ],
            [
             0.6666666666666666,
             "#ed7953"
            ],
            [
             0.7777777777777778,
             "#fb9f3a"
            ],
            [
             0.8888888888888888,
             "#fdca26"
            ],
            [
             1,
             "#f0f921"
            ]
           ],
           "sequentialminus": [
            [
             0,
             "#0d0887"
            ],
            [
             0.1111111111111111,
             "#46039f"
            ],
            [
             0.2222222222222222,
             "#7201a8"
            ],
            [
             0.3333333333333333,
             "#9c179e"
            ],
            [
             0.4444444444444444,
             "#bd3786"
            ],
            [
             0.5555555555555556,
             "#d8576b"
            ],
            [
             0.6666666666666666,
             "#ed7953"
            ],
            [
             0.7777777777777778,
             "#fb9f3a"
            ],
            [
             0.8888888888888888,
             "#fdca26"
            ],
            [
             1,
             "#f0f921"
            ]
           ]
          },
          "colorway": [
           "#636efa",
           "#EF553B",
           "#00cc96",
           "#ab63fa",
           "#FFA15A",
           "#19d3f3",
           "#FF6692",
           "#B6E880",
           "#FF97FF",
           "#FECB52"
          ],
          "font": {
           "color": "#2a3f5f"
          },
          "geo": {
           "bgcolor": "white",
           "lakecolor": "white",
           "landcolor": "#E5ECF6",
           "showlakes": true,
           "showland": true,
           "subunitcolor": "white"
          },
          "hoverlabel": {
           "align": "left"
          },
          "hovermode": "closest",
          "mapbox": {
           "style": "light"
          },
          "paper_bgcolor": "white",
          "plot_bgcolor": "#E5ECF6",
          "polar": {
           "angularaxis": {
            "gridcolor": "white",
            "linecolor": "white",
            "ticks": ""
           },
           "bgcolor": "#E5ECF6",
           "radialaxis": {
            "gridcolor": "white",
            "linecolor": "white",
            "ticks": ""
           }
          },
          "scene": {
           "xaxis": {
            "backgroundcolor": "#E5ECF6",
            "gridcolor": "white",
            "gridwidth": 2,
            "linecolor": "white",
            "showbackground": true,
            "ticks": "",
            "zerolinecolor": "white"
           },
           "yaxis": {
            "backgroundcolor": "#E5ECF6",
            "gridcolor": "white",
            "gridwidth": 2,
            "linecolor": "white",
            "showbackground": true,
            "ticks": "",
            "zerolinecolor": "white"
           },
           "zaxis": {
            "backgroundcolor": "#E5ECF6",
            "gridcolor": "white",
            "gridwidth": 2,
            "linecolor": "white",
            "showbackground": true,
            "ticks": "",
            "zerolinecolor": "white"
           }
          },
          "shapedefaults": {
           "line": {
            "color": "#2a3f5f"
           }
          },
          "ternary": {
           "aaxis": {
            "gridcolor": "white",
            "linecolor": "white",
            "ticks": ""
           },
           "baxis": {
            "gridcolor": "white",
            "linecolor": "white",
            "ticks": ""
           },
           "bgcolor": "#E5ECF6",
           "caxis": {
            "gridcolor": "white",
            "linecolor": "white",
            "ticks": ""
           }
          },
          "title": {
           "x": 0.05
          },
          "xaxis": {
           "automargin": true,
           "gridcolor": "white",
           "linecolor": "white",
           "ticks": "",
           "title": {
            "standoff": 15
           },
           "zerolinecolor": "white",
           "zerolinewidth": 2
          },
          "yaxis": {
           "automargin": true,
           "gridcolor": "white",
           "linecolor": "white",
           "ticks": "",
           "title": {
            "standoff": 15
           },
           "zerolinecolor": "white",
           "zerolinewidth": 2
          }
         }
        },
        "title": {
         "text": "Ticket Médio Mensal"
        },
        "xaxis": {
         "anchor": "y",
         "domain": [
          0,
          1
         ],
         "tickangle": 45,
         "title": {
          "text": "Ano_Mes"
         }
        },
        "yaxis": {
         "anchor": "x",
         "domain": [
          0,
          1
         ],
         "title": {
          "text": "TicketMedio"
         }
        }
       }
      }
     },
     "metadata": {},
     "output_type": "display_data"
    },
    {
     "data": {
      "application/vnd.plotly.v1+json": {
       "config": {
        "plotlyServerURL": "https://plot.ly"
       },
       "data": [
        {
         "alignmentgroup": "True",
         "hovertemplate": "Ano_Mes=%{x}<br>CrescimentoSellIn=%{y}<extra></extra>",
         "legendgroup": "",
         "marker": {
          "color": "#636efa",
          "pattern": {
           "shape": ""
          }
         },
         "name": "",
         "offsetgroup": "",
         "orientation": "v",
         "showlegend": false,
         "textposition": "auto",
         "type": "bar",
         "x": [
          "2023-01",
          "2023-02",
          "2023-03",
          "2023-04",
          "2023-05",
          "2023-06",
          "2023-07",
          "2023-08",
          "2023-09",
          "2023-10",
          "2023-11",
          "2023-12",
          "2024-01",
          "2024-02",
          "2024-03",
          "2024-04",
          "2024-05",
          "2024-06",
          "2024-07",
          "2024-08",
          "2024-09",
          "2024-10",
          "2024-11",
          "2024-12"
         ],
         "xaxis": "x",
         "y": [
          null,
          57.61,
          17.27,
          9.57,
          25.26,
          -6.4,
          -45.09,
          79.93,
          39.02,
          -21.34,
          52.27,
          -55.73,
          -58.53,
          186.02,
          28.04,
          -73.77,
          374.56,
          15.97,
          -58.97,
          104.84,
          -38.63,
          173.11,
          -57.33,
          -26.11
         ],
         "yaxis": "y"
        }
       ],
       "layout": {
        "barmode": "relative",
        "legend": {
         "tracegroupgap": 0
        },
        "template": {
         "data": {
          "bar": [
           {
            "error_x": {
             "color": "#2a3f5f"
            },
            "error_y": {
             "color": "#2a3f5f"
            },
            "marker": {
             "line": {
              "color": "#E5ECF6",
              "width": 0.5
             },
             "pattern": {
              "fillmode": "overlay",
              "size": 10,
              "solidity": 0.2
             }
            },
            "type": "bar"
           }
          ],
          "barpolar": [
           {
            "marker": {
             "line": {
              "color": "#E5ECF6",
              "width": 0.5
             },
             "pattern": {
              "fillmode": "overlay",
              "size": 10,
              "solidity": 0.2
             }
            },
            "type": "barpolar"
           }
          ],
          "carpet": [
           {
            "aaxis": {
             "endlinecolor": "#2a3f5f",
             "gridcolor": "white",
             "linecolor": "white",
             "minorgridcolor": "white",
             "startlinecolor": "#2a3f5f"
            },
            "baxis": {
             "endlinecolor": "#2a3f5f",
             "gridcolor": "white",
             "linecolor": "white",
             "minorgridcolor": "white",
             "startlinecolor": "#2a3f5f"
            },
            "type": "carpet"
           }
          ],
          "choropleth": [
           {
            "colorbar": {
             "outlinewidth": 0,
             "ticks": ""
            },
            "type": "choropleth"
           }
          ],
          "contour": [
           {
            "colorbar": {
             "outlinewidth": 0,
             "ticks": ""
            },
            "colorscale": [
             [
              0,
              "#0d0887"
             ],
             [
              0.1111111111111111,
              "#46039f"
             ],
             [
              0.2222222222222222,
              "#7201a8"
             ],
             [
              0.3333333333333333,
              "#9c179e"
             ],
             [
              0.4444444444444444,
              "#bd3786"
             ],
             [
              0.5555555555555556,
              "#d8576b"
             ],
             [
              0.6666666666666666,
              "#ed7953"
             ],
             [
              0.7777777777777778,
              "#fb9f3a"
             ],
             [
              0.8888888888888888,
              "#fdca26"
             ],
             [
              1,
              "#f0f921"
             ]
            ],
            "type": "contour"
           }
          ],
          "contourcarpet": [
           {
            "colorbar": {
             "outlinewidth": 0,
             "ticks": ""
            },
            "type": "contourcarpet"
           }
          ],
          "heatmap": [
           {
            "colorbar": {
             "outlinewidth": 0,
             "ticks": ""
            },
            "colorscale": [
             [
              0,
              "#0d0887"
             ],
             [
              0.1111111111111111,
              "#46039f"
             ],
             [
              0.2222222222222222,
              "#7201a8"
             ],
             [
              0.3333333333333333,
              "#9c179e"
             ],
             [
              0.4444444444444444,
              "#bd3786"
             ],
             [
              0.5555555555555556,
              "#d8576b"
             ],
             [
              0.6666666666666666,
              "#ed7953"
             ],
             [
              0.7777777777777778,
              "#fb9f3a"
             ],
             [
              0.8888888888888888,
              "#fdca26"
             ],
             [
              1,
              "#f0f921"
             ]
            ],
            "type": "heatmap"
           }
          ],
          "heatmapgl": [
           {
            "colorbar": {
             "outlinewidth": 0,
             "ticks": ""
            },
            "colorscale": [
             [
              0,
              "#0d0887"
             ],
             [
              0.1111111111111111,
              "#46039f"
             ],
             [
              0.2222222222222222,
              "#7201a8"
             ],
             [
              0.3333333333333333,
              "#9c179e"
             ],
             [
              0.4444444444444444,
              "#bd3786"
             ],
             [
              0.5555555555555556,
              "#d8576b"
             ],
             [
              0.6666666666666666,
              "#ed7953"
             ],
             [
              0.7777777777777778,
              "#fb9f3a"
             ],
             [
              0.8888888888888888,
              "#fdca26"
             ],
             [
              1,
              "#f0f921"
             ]
            ],
            "type": "heatmapgl"
           }
          ],
          "histogram": [
           {
            "marker": {
             "pattern": {
              "fillmode": "overlay",
              "size": 10,
              "solidity": 0.2
             }
            },
            "type": "histogram"
           }
          ],
          "histogram2d": [
           {
            "colorbar": {
             "outlinewidth": 0,
             "ticks": ""
            },
            "colorscale": [
             [
              0,
              "#0d0887"
             ],
             [
              0.1111111111111111,
              "#46039f"
             ],
             [
              0.2222222222222222,
              "#7201a8"
             ],
             [
              0.3333333333333333,
              "#9c179e"
             ],
             [
              0.4444444444444444,
              "#bd3786"
             ],
             [
              0.5555555555555556,
              "#d8576b"
             ],
             [
              0.6666666666666666,
              "#ed7953"
             ],
             [
              0.7777777777777778,
              "#fb9f3a"
             ],
             [
              0.8888888888888888,
              "#fdca26"
             ],
             [
              1,
              "#f0f921"
             ]
            ],
            "type": "histogram2d"
           }
          ],
          "histogram2dcontour": [
           {
            "colorbar": {
             "outlinewidth": 0,
             "ticks": ""
            },
            "colorscale": [
             [
              0,
              "#0d0887"
             ],
             [
              0.1111111111111111,
              "#46039f"
             ],
             [
              0.2222222222222222,
              "#7201a8"
             ],
             [
              0.3333333333333333,
              "#9c179e"
             ],
             [
              0.4444444444444444,
              "#bd3786"
             ],
             [
              0.5555555555555556,
              "#d8576b"
             ],
             [
              0.6666666666666666,
              "#ed7953"
             ],
             [
              0.7777777777777778,
              "#fb9f3a"
             ],
             [
              0.8888888888888888,
              "#fdca26"
             ],
             [
              1,
              "#f0f921"
             ]
            ],
            "type": "histogram2dcontour"
           }
          ],
          "mesh3d": [
           {
            "colorbar": {
             "outlinewidth": 0,
             "ticks": ""
            },
            "type": "mesh3d"
           }
          ],
          "parcoords": [
           {
            "line": {
             "colorbar": {
              "outlinewidth": 0,
              "ticks": ""
             }
            },
            "type": "parcoords"
           }
          ],
          "pie": [
           {
            "automargin": true,
            "type": "pie"
           }
          ],
          "scatter": [
           {
            "fillpattern": {
             "fillmode": "overlay",
             "size": 10,
             "solidity": 0.2
            },
            "type": "scatter"
           }
          ],
          "scatter3d": [
           {
            "line": {
             "colorbar": {
              "outlinewidth": 0,
              "ticks": ""
             }
            },
            "marker": {
             "colorbar": {
              "outlinewidth": 0,
              "ticks": ""
             }
            },
            "type": "scatter3d"
           }
          ],
          "scattercarpet": [
           {
            "marker": {
             "colorbar": {
              "outlinewidth": 0,
              "ticks": ""
             }
            },
            "type": "scattercarpet"
           }
          ],
          "scattergeo": [
           {
            "marker": {
             "colorbar": {
              "outlinewidth": 0,
              "ticks": ""
             }
            },
            "type": "scattergeo"
           }
          ],
          "scattergl": [
           {
            "marker": {
             "colorbar": {
              "outlinewidth": 0,
              "ticks": ""
             }
            },
            "type": "scattergl"
           }
          ],
          "scattermapbox": [
           {
            "marker": {
             "colorbar": {
              "outlinewidth": 0,
              "ticks": ""
             }
            },
            "type": "scattermapbox"
           }
          ],
          "scatterpolar": [
           {
            "marker": {
             "colorbar": {
              "outlinewidth": 0,
              "ticks": ""
             }
            },
            "type": "scatterpolar"
           }
          ],
          "scatterpolargl": [
           {
            "marker": {
             "colorbar": {
              "outlinewidth": 0,
              "ticks": ""
             }
            },
            "type": "scatterpolargl"
           }
          ],
          "scatterternary": [
           {
            "marker": {
             "colorbar": {
              "outlinewidth": 0,
              "ticks": ""
             }
            },
            "type": "scatterternary"
           }
          ],
          "surface": [
           {
            "colorbar": {
             "outlinewidth": 0,
             "ticks": ""
            },
            "colorscale": [
             [
              0,
              "#0d0887"
             ],
             [
              0.1111111111111111,
              "#46039f"
             ],
             [
              0.2222222222222222,
              "#7201a8"
             ],
             [
              0.3333333333333333,
              "#9c179e"
             ],
             [
              0.4444444444444444,
              "#bd3786"
             ],
             [
              0.5555555555555556,
              "#d8576b"
             ],
             [
              0.6666666666666666,
              "#ed7953"
             ],
             [
              0.7777777777777778,
              "#fb9f3a"
             ],
             [
              0.8888888888888888,
              "#fdca26"
             ],
             [
              1,
              "#f0f921"
             ]
            ],
            "type": "surface"
           }
          ],
          "table": [
           {
            "cells": {
             "fill": {
              "color": "#EBF0F8"
             },
             "line": {
              "color": "white"
             }
            },
            "header": {
             "fill": {
              "color": "#C8D4E3"
             },
             "line": {
              "color": "white"
             }
            },
            "type": "table"
           }
          ]
         },
         "layout": {
          "annotationdefaults": {
           "arrowcolor": "#2a3f5f",
           "arrowhead": 0,
           "arrowwidth": 1
          },
          "autotypenumbers": "strict",
          "coloraxis": {
           "colorbar": {
            "outlinewidth": 0,
            "ticks": ""
           }
          },
          "colorscale": {
           "diverging": [
            [
             0,
             "#8e0152"
            ],
            [
             0.1,
             "#c51b7d"
            ],
            [
             0.2,
             "#de77ae"
            ],
            [
             0.3,
             "#f1b6da"
            ],
            [
             0.4,
             "#fde0ef"
            ],
            [
             0.5,
             "#f7f7f7"
            ],
            [
             0.6,
             "#e6f5d0"
            ],
            [
             0.7,
             "#b8e186"
            ],
            [
             0.8,
             "#7fbc41"
            ],
            [
             0.9,
             "#4d9221"
            ],
            [
             1,
             "#276419"
            ]
           ],
           "sequential": [
            [
             0,
             "#0d0887"
            ],
            [
             0.1111111111111111,
             "#46039f"
            ],
            [
             0.2222222222222222,
             "#7201a8"
            ],
            [
             0.3333333333333333,
             "#9c179e"
            ],
            [
             0.4444444444444444,
             "#bd3786"
            ],
            [
             0.5555555555555556,
             "#d8576b"
            ],
            [
             0.6666666666666666,
             "#ed7953"
            ],
            [
             0.7777777777777778,
             "#fb9f3a"
            ],
            [
             0.8888888888888888,
             "#fdca26"
            ],
            [
             1,
             "#f0f921"
            ]
           ],
           "sequentialminus": [
            [
             0,
             "#0d0887"
            ],
            [
             0.1111111111111111,
             "#46039f"
            ],
            [
             0.2222222222222222,
             "#7201a8"
            ],
            [
             0.3333333333333333,
             "#9c179e"
            ],
            [
             0.4444444444444444,
             "#bd3786"
            ],
            [
             0.5555555555555556,
             "#d8576b"
            ],
            [
             0.6666666666666666,
             "#ed7953"
            ],
            [
             0.7777777777777778,
             "#fb9f3a"
            ],
            [
             0.8888888888888888,
             "#fdca26"
            ],
            [
             1,
             "#f0f921"
            ]
           ]
          },
          "colorway": [
           "#636efa",
           "#EF553B",
           "#00cc96",
           "#ab63fa",
           "#FFA15A",
           "#19d3f3",
           "#FF6692",
           "#B6E880",
           "#FF97FF",
           "#FECB52"
          ],
          "font": {
           "color": "#2a3f5f"
          },
          "geo": {
           "bgcolor": "white",
           "lakecolor": "white",
           "landcolor": "#E5ECF6",
           "showlakes": true,
           "showland": true,
           "subunitcolor": "white"
          },
          "hoverlabel": {
           "align": "left"
          },
          "hovermode": "closest",
          "mapbox": {
           "style": "light"
          },
          "paper_bgcolor": "white",
          "plot_bgcolor": "#E5ECF6",
          "polar": {
           "angularaxis": {
            "gridcolor": "white",
            "linecolor": "white",
            "ticks": ""
           },
           "bgcolor": "#E5ECF6",
           "radialaxis": {
            "gridcolor": "white",
            "linecolor": "white",
            "ticks": ""
           }
          },
          "scene": {
           "xaxis": {
            "backgroundcolor": "#E5ECF6",
            "gridcolor": "white",
            "gridwidth": 2,
            "linecolor": "white",
            "showbackground": true,
            "ticks": "",
            "zerolinecolor": "white"
           },
           "yaxis": {
            "backgroundcolor": "#E5ECF6",
            "gridcolor": "white",
            "gridwidth": 2,
            "linecolor": "white",
            "showbackground": true,
            "ticks": "",
            "zerolinecolor": "white"
           },
           "zaxis": {
            "backgroundcolor": "#E5ECF6",
            "gridcolor": "white",
            "gridwidth": 2,
            "linecolor": "white",
            "showbackground": true,
            "ticks": "",
            "zerolinecolor": "white"
           }
          },
          "shapedefaults": {
           "line": {
            "color": "#2a3f5f"
           }
          },
          "ternary": {
           "aaxis": {
            "gridcolor": "white",
            "linecolor": "white",
            "ticks": ""
           },
           "baxis": {
            "gridcolor": "white",
            "linecolor": "white",
            "ticks": ""
           },
           "bgcolor": "#E5ECF6",
           "caxis": {
            "gridcolor": "white",
            "linecolor": "white",
            "ticks": ""
           }
          },
          "title": {
           "x": 0.05
          },
          "xaxis": {
           "automargin": true,
           "gridcolor": "white",
           "linecolor": "white",
           "ticks": "",
           "title": {
            "standoff": 15
           },
           "zerolinecolor": "white",
           "zerolinewidth": 2
          },
          "yaxis": {
           "automargin": true,
           "gridcolor": "white",
           "linecolor": "white",
           "ticks": "",
           "title": {
            "standoff": 15
           },
           "zerolinecolor": "white",
           "zerolinewidth": 2
          }
         }
        },
        "title": {
         "text": "Crescimento Mensal (%)"
        },
        "xaxis": {
         "anchor": "y",
         "domain": [
          0,
          1
         ],
         "tickangle": 45,
         "title": {
          "text": "Ano_Mes"
         }
        },
        "yaxis": {
         "anchor": "x",
         "domain": [
          0,
          1
         ],
         "title": {
          "text": "CrescimentoSellIn"
         }
        }
       }
      }
     },
     "metadata": {},
     "output_type": "display_data"
    }
   ],
   "source": [
    "df_units = sell_out.groupby('Ano_Mes')['Unidades_SellThrough'].sum().reset_index()\n",
    "df_monthly = df_sn.merge(df_so, on='Ano_Mes').merge(df_units, on='Ano_Mes')\n",
    "df_monthly['SellThroughRate']   = df_monthly['SellOut'] / df_monthly['SellIn']\n",
    "df_monthly['TicketMedio']       = df_monthly['SellOut'] / df_monthly['Unidades_SellThrough']\n",
    "df_monthly['CrescimentoSellIn'] = df_monthly['SellIn'].pct_change().mul(100).round(2)\n",
    "display(Markdown('**Visão Mensal das Métricas Avançadas**'))\n",
    "display(df_monthly.style.format({\n",
    "    'SellIn':'R$ {:,.0f}','SellOut':'R$ {:,.0f}',\n",
    "    'SellThroughRate':'{:.2%}','TicketMedio':'R$ {:,.2f}',\n",
    "    'CrescimentoSellIn':'{:.2f}%'\n",
    "}))\n",
    "# Gráficos avançados\n",
    "fig3 = px.line(df_monthly, x='Ano_Mes', y='SellThroughRate', title='Sell-Through Rate Mensal')\n",
    "fig3.update_yaxes(tickformat='.0%'); fig3.update_xaxes(tickangle=45); fig3.show()\n",
    "fig4 = px.line(df_monthly, x='Ano_Mes', y='TicketMedio', title='Ticket Médio Mensal'); fig4.update_xaxes(tickangle=45); fig4.show()\n",
    "fig5 = px.bar(df_monthly, x='Ano_Mes', y='CrescimentoSellIn', title='Crescimento Mensal (%)'); fig5.update_xaxes(tickangle=45); fig5.show()"
   ]
  }
 ],
 "metadata": {
  "kernelspec": {
   "display_name": "base",
   "language": "python",
   "name": "python3"
  },
  "language_info": {
   "codemirror_mode": {
    "name": "ipython",
    "version": 3
   },
   "file_extension": ".py",
   "mimetype": "text/x-python",
   "name": "python",
   "nbconvert_exporter": "python",
   "pygments_lexer": "ipython3",
   "version": "3.12.7"
  }
 },
 "nbformat": 4,
 "nbformat_minor": 5
}
